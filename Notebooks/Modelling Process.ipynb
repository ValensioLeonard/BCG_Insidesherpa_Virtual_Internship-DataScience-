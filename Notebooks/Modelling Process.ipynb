{
 "cells": [
  {
   "cell_type": "markdown",
   "metadata": {},
   "source": [
    "# Modelling and Evaluation"
   ]
  },
  {
   "cell_type": "code",
   "execution_count": 1,
   "metadata": {},
   "outputs": [],
   "source": [
    "# importing Necessary Libraries\n",
    "\n",
    "import pandas as pd\n",
    "import numpy as np\n",
    "import matplotlib.pyplot as plt\n",
    "import seaborn as sns\n",
    "\n",
    "from sklearn.model_selection import train_test_split\n",
    "\n",
    "import pickle\n",
    "import warnings\n",
    "warnings.filterwarnings('ignore')\n",
    "\n",
    "from sklearn.metrics import precision_recall_fscore_support, classification_report, roc_auc_score, confusion_matrix"
   ]
  },
  {
   "cell_type": "markdown",
   "metadata": {},
   "source": [
    "## Importing Cleaned and Transformed Data"
   ]
  },
  {
   "cell_type": "code",
   "execution_count": 2,
   "metadata": {},
   "outputs": [
    {
     "data": {
      "text/html": [
       "<div>\n",
       "<style scoped>\n",
       "    .dataframe tbody tr th:only-of-type {\n",
       "        vertical-align: middle;\n",
       "    }\n",
       "\n",
       "    .dataframe tbody tr th {\n",
       "        vertical-align: top;\n",
       "    }\n",
       "\n",
       "    .dataframe thead th {\n",
       "        text-align: right;\n",
       "    }\n",
       "</style>\n",
       "<table border=\"1\" class=\"dataframe\">\n",
       "  <thead>\n",
       "    <tr style=\"text-align: right;\">\n",
       "      <th></th>\n",
       "      <th>cons_12m</th>\n",
       "      <th>cons_gas_12m</th>\n",
       "      <th>cons_last_month</th>\n",
       "      <th>forecast_base_bill_ele</th>\n",
       "      <th>forecast_cons</th>\n",
       "      <th>forecast_cons_12m</th>\n",
       "      <th>forecast_cons_year</th>\n",
       "      <th>forecast_discount_energy</th>\n",
       "      <th>forecast_meter_rent_12m</th>\n",
       "      <th>forecast_price_energy_p1</th>\n",
       "      <th>...</th>\n",
       "      <th>date_renewal_2015.0</th>\n",
       "      <th>has_gas_f</th>\n",
       "      <th>has_gas_t</th>\n",
       "      <th>origin_up_Miss</th>\n",
       "      <th>origin_up_ewxe</th>\n",
       "      <th>origin_up_kamk</th>\n",
       "      <th>origin_up_ldks</th>\n",
       "      <th>origin_up_lxid</th>\n",
       "      <th>origin_up_usap</th>\n",
       "      <th>price_date_2015.0</th>\n",
       "    </tr>\n",
       "  </thead>\n",
       "  <tbody>\n",
       "    <tr>\n",
       "      <th>0</th>\n",
       "      <td>4.310267</td>\n",
       "      <td>0.0</td>\n",
       "      <td>4.001128</td>\n",
       "      <td>335.807483</td>\n",
       "      <td>206.800605</td>\n",
       "      <td>3.179547</td>\n",
       "      <td>2.932604</td>\n",
       "      <td>0.0</td>\n",
       "      <td>62.642961</td>\n",
       "      <td>0.095919</td>\n",
       "      <td>...</td>\n",
       "      <td>1</td>\n",
       "      <td>1</td>\n",
       "      <td>0</td>\n",
       "      <td>0</td>\n",
       "      <td>0</td>\n",
       "      <td>0</td>\n",
       "      <td>1</td>\n",
       "      <td>0</td>\n",
       "      <td>0</td>\n",
       "      <td>1</td>\n",
       "    </tr>\n",
       "    <tr>\n",
       "      <th>1</th>\n",
       "      <td>4.310267</td>\n",
       "      <td>0.0</td>\n",
       "      <td>4.001128</td>\n",
       "      <td>335.807483</td>\n",
       "      <td>206.800605</td>\n",
       "      <td>3.179547</td>\n",
       "      <td>2.932604</td>\n",
       "      <td>0.0</td>\n",
       "      <td>62.642961</td>\n",
       "      <td>0.095919</td>\n",
       "      <td>...</td>\n",
       "      <td>1</td>\n",
       "      <td>1</td>\n",
       "      <td>0</td>\n",
       "      <td>0</td>\n",
       "      <td>0</td>\n",
       "      <td>0</td>\n",
       "      <td>1</td>\n",
       "      <td>0</td>\n",
       "      <td>0</td>\n",
       "      <td>1</td>\n",
       "    </tr>\n",
       "    <tr>\n",
       "      <th>2</th>\n",
       "      <td>4.310267</td>\n",
       "      <td>0.0</td>\n",
       "      <td>4.001128</td>\n",
       "      <td>335.807483</td>\n",
       "      <td>206.800605</td>\n",
       "      <td>3.179547</td>\n",
       "      <td>2.932604</td>\n",
       "      <td>0.0</td>\n",
       "      <td>62.642961</td>\n",
       "      <td>0.095919</td>\n",
       "      <td>...</td>\n",
       "      <td>1</td>\n",
       "      <td>1</td>\n",
       "      <td>0</td>\n",
       "      <td>0</td>\n",
       "      <td>0</td>\n",
       "      <td>0</td>\n",
       "      <td>1</td>\n",
       "      <td>0</td>\n",
       "      <td>0</td>\n",
       "      <td>1</td>\n",
       "    </tr>\n",
       "    <tr>\n",
       "      <th>3</th>\n",
       "      <td>4.310267</td>\n",
       "      <td>0.0</td>\n",
       "      <td>4.001128</td>\n",
       "      <td>335.807483</td>\n",
       "      <td>206.800605</td>\n",
       "      <td>3.179547</td>\n",
       "      <td>2.932604</td>\n",
       "      <td>0.0</td>\n",
       "      <td>62.642961</td>\n",
       "      <td>0.095919</td>\n",
       "      <td>...</td>\n",
       "      <td>1</td>\n",
       "      <td>1</td>\n",
       "      <td>0</td>\n",
       "      <td>0</td>\n",
       "      <td>0</td>\n",
       "      <td>0</td>\n",
       "      <td>1</td>\n",
       "      <td>0</td>\n",
       "      <td>0</td>\n",
       "      <td>1</td>\n",
       "    </tr>\n",
       "    <tr>\n",
       "      <th>4</th>\n",
       "      <td>4.310267</td>\n",
       "      <td>0.0</td>\n",
       "      <td>4.001128</td>\n",
       "      <td>335.807483</td>\n",
       "      <td>206.800605</td>\n",
       "      <td>3.179547</td>\n",
       "      <td>2.932604</td>\n",
       "      <td>0.0</td>\n",
       "      <td>62.642961</td>\n",
       "      <td>0.095919</td>\n",
       "      <td>...</td>\n",
       "      <td>1</td>\n",
       "      <td>1</td>\n",
       "      <td>0</td>\n",
       "      <td>0</td>\n",
       "      <td>0</td>\n",
       "      <td>0</td>\n",
       "      <td>1</td>\n",
       "      <td>0</td>\n",
       "      <td>0</td>\n",
       "      <td>1</td>\n",
       "    </tr>\n",
       "  </tbody>\n",
       "</table>\n",
       "<p>5 rows × 487 columns</p>\n",
       "</div>"
      ],
      "text/plain": [
       "   cons_12m  cons_gas_12m  cons_last_month  forecast_base_bill_ele  \\\n",
       "0  4.310267           0.0         4.001128              335.807483   \n",
       "1  4.310267           0.0         4.001128              335.807483   \n",
       "2  4.310267           0.0         4.001128              335.807483   \n",
       "3  4.310267           0.0         4.001128              335.807483   \n",
       "4  4.310267           0.0         4.001128              335.807483   \n",
       "\n",
       "   forecast_cons  forecast_cons_12m  forecast_cons_year  \\\n",
       "0     206.800605           3.179547            2.932604   \n",
       "1     206.800605           3.179547            2.932604   \n",
       "2     206.800605           3.179547            2.932604   \n",
       "3     206.800605           3.179547            2.932604   \n",
       "4     206.800605           3.179547            2.932604   \n",
       "\n",
       "   forecast_discount_energy  forecast_meter_rent_12m  \\\n",
       "0                       0.0                62.642961   \n",
       "1                       0.0                62.642961   \n",
       "2                       0.0                62.642961   \n",
       "3                       0.0                62.642961   \n",
       "4                       0.0                62.642961   \n",
       "\n",
       "   forecast_price_energy_p1  ...  date_renewal_2015.0  has_gas_f  has_gas_t  \\\n",
       "0                  0.095919  ...                    1          1          0   \n",
       "1                  0.095919  ...                    1          1          0   \n",
       "2                  0.095919  ...                    1          1          0   \n",
       "3                  0.095919  ...                    1          1          0   \n",
       "4                  0.095919  ...                    1          1          0   \n",
       "\n",
       "   origin_up_Miss  origin_up_ewxe  origin_up_kamk  origin_up_ldks  \\\n",
       "0               0               0               0               1   \n",
       "1               0               0               0               1   \n",
       "2               0               0               0               1   \n",
       "3               0               0               0               1   \n",
       "4               0               0               0               1   \n",
       "\n",
       "   origin_up_lxid  origin_up_usap  price_date_2015.0  \n",
       "0               0               0                  1  \n",
       "1               0               0                  1  \n",
       "2               0               0                  1  \n",
       "3               0               0                  1  \n",
       "4               0               0                  1  \n",
       "\n",
       "[5 rows x 487 columns]"
      ]
     },
     "execution_count": 2,
     "metadata": {},
     "output_type": "execute_result"
    }
   ],
   "source": [
    "df = pd.read_csv('../Data/data_ready.csv')\n",
    "df.drop(df.columns[0], inplace = True, axis = 1)\n",
    "df.head()"
   ]
  },
  {
   "cell_type": "markdown",
   "metadata": {},
   "source": [
    "## Splitting The Data into Train and Test Set"
   ]
  },
  {
   "cell_type": "code",
   "execution_count": 3,
   "metadata": {},
   "outputs": [],
   "source": [
    "X = df.drop('churn', axis = 1)\n",
    "y = df['churn']\n",
    "\n",
    "X_train, X_test, y_train, y_test = train_test_split(X, y, test_size = 0.20)"
   ]
  },
  {
   "cell_type": "markdown",
   "metadata": {},
   "source": [
    "## Preparing Evaluation Metrics"
   ]
  },
  {
   "cell_type": "markdown",
   "metadata": {},
   "source": [
    "In this analysis, we'll be looking at some metrics that we'll use to evaluate how good our model is, we'll made a function so we can use it on different models without writting the code again."
   ]
  },
  {
   "cell_type": "code",
   "execution_count": 4,
   "metadata": {},
   "outputs": [],
   "source": [
    "def report(y_test, y_pred, model_name, model):\n",
    "    \n",
    "    print('The ROC AUC Score for', model_name, 'is: {:.2f}'.format(roc_auc_score(y_test, y_pred)))\n",
    "    print('\\nConfusion Matrix: ')\n",
    "    conf_mat = pd.DataFrame(confusion_matrix(y_test, y_pred, labels = [0, 1]), columns = ['Predict 0', 'Predict 1'], index = ['Class 0', 'Class 1'])\n",
    "    print(conf_mat)\n",
    "\n",
    "    precision, recall, fscore, support = precision_recall_fscore_support(y_test, y_pred)\n",
    "    print('\\nMetrics Reports')\n",
    "    print(classification_report(y_test, y_pred))\n",
    "    \n",
    "    try:\n",
    "        feature_impr = pd.DataFrame(data = model.feature_importances_*100, \n",
    "                     index=df.drop('churn', axis = 1).columns.to_list()).rename(columns = {0: 'Feature Importance'}).sort_values(by=['Feature Importance'], ascending=False)\n",
    "\n",
    "        ax = feature_impr.iloc[0:11, :].plot(kind = 'barh', figsize=(6,6), xlim = [0, feature_impr.iloc[0:11, 0].max() + 5], legend = False)\n",
    "        plt.title('Top 10 Features for the ' + model_name  + ' Model')\n",
    "\n",
    "        for i, v in enumerate(feature_impr.iloc[0:11, 0]):\n",
    "            ax.text(v + 0.25, i + .25, str(round(v, 2)) + ' %', color='black', fontweight='bold')\n",
    "\n",
    "        plt.gca().invert_yaxis()\n",
    "        plt.show()\n",
    "    except:\n",
    "        print('')"
   ]
  },
  {
   "cell_type": "markdown",
   "metadata": {},
   "source": [
    "## Logistic Regression"
   ]
  },
  {
   "cell_type": "code",
   "execution_count": 5,
   "metadata": {},
   "outputs": [
    {
     "name": "stdout",
     "output_type": "stream",
     "text": [
      "The ROC AUC Score for Logistic Regression is: 0.50\n",
      "\n",
      "Confusion Matrix: \n",
      "         Predict 0  Predict 1\n",
      "Class 0      34800          0\n",
      "Class 1       3801          0\n",
      "\n",
      "Metrics Reports\n",
      "              precision    recall  f1-score   support\n",
      "\n",
      "           0       0.90      1.00      0.95     34800\n",
      "           1       0.00      0.00      0.00      3801\n",
      "\n",
      "    accuracy                           0.90     38601\n",
      "   macro avg       0.45      0.50      0.47     38601\n",
      "weighted avg       0.81      0.90      0.85     38601\n",
      "\n",
      "\n"
     ]
    }
   ],
   "source": [
    "from sklearn.linear_model import LogisticRegression\n",
    "\n",
    "clf_lr = LogisticRegression().fit(X_train, y_train)\n",
    "lr_prediction = clf_lr.predict(X_test)\n",
    "\n",
    "report(y_test, lr_prediction, 'Logistic Regression', clf_lr)"
   ]
  },
  {
   "cell_type": "markdown",
   "metadata": {},
   "source": [
    "## Decision Tree"
   ]
  },
  {
   "cell_type": "code",
   "execution_count": 6,
   "metadata": {},
   "outputs": [
    {
     "name": "stdout",
     "output_type": "stream",
     "text": [
      "The ROC AUC Score for Decision Tree is: 1.00\n",
      "\n",
      "Confusion Matrix: \n",
      "         Predict 0  Predict 1\n",
      "Class 0      34788         12\n",
      "Class 1          8       3793\n",
      "\n",
      "Metrics Reports\n",
      "              precision    recall  f1-score   support\n",
      "\n",
      "           0       1.00      1.00      1.00     34800\n",
      "           1       1.00      1.00      1.00      3801\n",
      "\n",
      "    accuracy                           1.00     38601\n",
      "   macro avg       1.00      1.00      1.00     38601\n",
      "weighted avg       1.00      1.00      1.00     38601\n",
      "\n"
     ]
    },
    {
     "data": {
      "image/png": "[encoded data removed]",
      "text/plain": [
       "<Figure size 432x432 with 1 Axes>"
      ]
     },
     "metadata": {
      "needs_background": "light"
     },
     "output_type": "display_data"
    }
   ],
   "source": [
    "from sklearn.tree import DecisionTreeClassifier\n",
    "\n",
    "clf_tree = DecisionTreeClassifier().fit(X_train, y_train)\n",
    "\n",
    "tree_prediction = clf_tree.predict(X_test)\n",
    "\n",
    "report(y_test, tree_prediction, 'Decision Tree', clf_tree)"
   ]
  },
  {
   "cell_type": "markdown",
   "metadata": {},
   "source": [
    "## Random Forest"
   ]
  },
  {
   "cell_type": "code",
   "execution_count": 7,
   "metadata": {},
   "outputs": [
    {
     "name": "stdout",
     "output_type": "stream",
     "text": [
      "The ROC AUC Score for Random Forest is: 1.00\n",
      "\n",
      "Confusion Matrix: \n",
      "         Predict 0  Predict 1\n",
      "Class 0      34794          6\n",
      "Class 1         25       3776\n",
      "\n",
      "Metrics Reports\n",
      "              precision    recall  f1-score   support\n",
      "\n",
      "           0       1.00      1.00      1.00     34800\n",
      "           1       1.00      0.99      1.00      3801\n",
      "\n",
      "    accuracy                           1.00     38601\n",
      "   macro avg       1.00      1.00      1.00     38601\n",
      "weighted avg       1.00      1.00      1.00     38601\n",
      "\n"
     ]
    },
    {
     "data": {
      "image/png": "[encoded data removed]",
      "text/plain": [
       "<Figure size 432x432 with 1 Axes>"
      ]
     },
     "metadata": {
      "needs_background": "light"
     },
     "output_type": "display_data"
    }
   ],
   "source": [
    "from sklearn.ensemble import RandomForestClassifier\n",
    "\n",
    "clf_rf = RandomForestClassifier().fit(X_train, y_train)\n",
    "\n",
    "rf_prediction = clf_rf.predict(X_test)\n",
    "\n",
    "report(y_test, rf_prediction, 'Random Forest', clf_rf)"
   ]
  },
  {
   "cell_type": "code",
   "execution_count": 8,
   "metadata": {},
   "outputs": [
    {
     "name": "stdout",
     "output_type": "stream",
     "text": [
      "The ROC AUC Score for Extreme Gradient Boosting is: 0.73\n",
      "\n",
      "Confusion Matrix: \n",
      "         Predict 0  Predict 1\n",
      "Class 0      34792          8\n",
      "Class 1       2066       1735\n",
      "\n",
      "Metrics Reports\n",
      "              precision    recall  f1-score   support\n",
      "\n",
      "           0       0.94      1.00      0.97     34800\n",
      "           1       1.00      0.46      0.63      3801\n",
      "\n",
      "    accuracy                           0.95     38601\n",
      "   macro avg       0.97      0.73      0.80     38601\n",
      "weighted avg       0.95      0.95      0.94     38601\n",
      "\n"
     ]
    },
    {
     "data": {
      "image/png": "[encoded data removed]",
      "text/plain": [
       "<Figure size 432x432 with 1 Axes>"
      ]
     },
     "metadata": {
      "needs_background": "light"
     },
     "output_type": "display_data"
    }
   ],
   "source": [
    "from xgboost import XGBClassifier\n",
    "\n",
    "clf_xgb = XGBClassifier().fit(X_train, y_train, eval_metric = 'logloss')\n",
    "\n",
    "xgb_prediction = clf_xgb.predict(X_test)\n",
    "\n",
    "report(y_test, xgb_prediction, 'Extreme Gradient Boosting', clf_xgb)"
   ]
  },
  {
   "cell_type": "markdown",
   "metadata": {},
   "source": [
    "### From our simple modelling process, we can already see that Random Forest Model can fit to the data pretty well. So in the next step, we shall see whether this model is robust enough by doing cross validation. (Cross Validation will fit the model on different bits of the data, then we'll see the average performance score of these models.)"
   ]
  },
  {
   "cell_type": "markdown",
   "metadata": {},
   "source": [
    "## Cross Validation"
   ]
  },
  {
   "cell_type": "code",
   "execution_count": 9,
   "metadata": {},
   "outputs": [
    {
     "name": "stdout",
     "output_type": "stream",
     "text": [
      "ROC AUC Score: Average of 1.000 with standard deviation of 0.000\n"
     ]
    }
   ],
   "source": [
    "# Stratified K-fold Cross Validation\n",
    "\n",
    "from sklearn.model_selection import KFold, cross_val_score, StratifiedKFold\n",
    "\n",
    "kf = StratifiedKFold(n_splits=10, shuffle=True, random_state=1) \n",
    "lst_accu_stratified = []\n",
    "   \n",
    "cv = KFold(n_splits=10, random_state=1, shuffle=True)\n",
    "\n",
    "clf_lr = RandomForestClassifier()\n",
    "\n",
    "# evaluate model\n",
    "scores = cross_val_score(clf_lr, X, y, scoring='roc_auc', cv=cv, n_jobs=-1, )\n",
    "\n",
    "# report performance\n",
    "print('ROC AUC Score: Average of %.3f with standard deviation of %.3f' % (np.mean(scores), np.std(scores)))"
   ]
  },
  {
   "cell_type": "markdown",
   "metadata": {},
   "source": [
    "#### Based on this Cross Validation process, we get a really good classifier performance score. Note that this is a rather optimistic score, when we deploy this model into an unseen data, the performance could drop to a certain degree."
   ]
  },
  {
   "cell_type": "markdown",
   "metadata": {},
   "source": [
    "## Receiver Operating Characteristic curve and Area Under Curve Plot"
   ]
  },
  {
   "cell_type": "markdown",
   "metadata": {},
   "source": [
    "#### A ROC Curve will show the ability of a classifier to diagnose target variable, the AUC score will give us an idea of this classifier performance. A 0.5 AUC score means a classifier is just guessing with a 50:50 chance of getting the right answer,, a good AUC Score is the one that is closer to one."
   ]
  },
  {
   "cell_type": "code",
   "execution_count": 10,
   "metadata": {},
   "outputs": [
    {
     "name": "stdout",
     "output_type": "stream",
     "text": [
      "Random Forest: ROC AUC=1.0000\n",
      "XGBOOST: ROC AUC=0.9648\n"
     ]
    },
    {
     "data": {
      "image/png": "[encoded data removed]",
      "text/plain": [
       "<Figure size 432x288 with 1 Axes>"
      ]
     },
     "metadata": {
      "needs_background": "light"
     },
     "output_type": "display_data"
    }
   ],
   "source": [
    "from sklearn.datasets import make_classification\n",
    "from sklearn.linear_model import LogisticRegression\n",
    "from sklearn.model_selection import train_test_split\n",
    "from sklearn.metrics import roc_curve\n",
    "from sklearn.metrics import roc_auc_score\n",
    "from matplotlib import pyplot\n",
    "\n",
    "\n",
    "ns_probs = [0 for _ in range(len(y_test))]\n",
    "\n",
    "# predict probabilities\n",
    "rf_probs = clf_rf.predict_proba(X_test)\n",
    "xgb_probs = clf_xgb.predict_proba(X_test)\n",
    "\n",
    "# keep probabilities for the positive outcome only\n",
    "rf_probs = rf_probs[:, 1]\n",
    "xgb_probs = xgb_probs[:, 1]\n",
    "\n",
    "# calculate scores\n",
    "ns_auc = roc_auc_score(y_test, ns_probs)\n",
    "rf_auc = roc_auc_score(y_test, rf_probs)\n",
    "xgb_auc = roc_auc_score(y_test, xgb_probs)\n",
    "\n",
    "# summarize scores\n",
    "# print(': ROC AUC=%.3f' % (ns_auc))\n",
    "print('Random Forest: ROC AUC=%.4f' % (rf_auc))\n",
    "print('XGBOOST: ROC AUC=%.4f' % (xgb_auc))\n",
    "\n",
    "# calculate roc curves\n",
    "ns_fpr, ns_tpr, _ = roc_curve(y_test, ns_probs)\n",
    "lr_fpr, lr_tpr, _ = roc_curve(y_test, rf_probs)\n",
    "xgb_fpr, xgb_tpr, _ = roc_curve(y_test, xgb_probs)\n",
    "\n",
    "# plot the roc curve for the model\n",
    "pyplot.plot(ns_fpr, ns_tpr, linestyle='--')\n",
    "pyplot.plot(lr_fpr, lr_tpr, marker='.', label='Random Forest')\n",
    "pyplot.plot(xgb_fpr, xgb_tpr, color = 'blue', linewidth = 0.6, label='XGBOOST', )\n",
    "\n",
    "# axis labels\n",
    "pyplot.xlabel('False Positive Rate')\n",
    "pyplot.ylabel('True Positive Rate')\n",
    "\n",
    "# show the legend\n",
    "pyplot.legend()\n",
    "# show the plot\n",
    "pyplot.show()"
   ]
  },
  {
   "cell_type": "markdown",
   "metadata": {},
   "source": [
    "## Since our Random Forest Model already perform good, we won't need parameter tuning process to keep this analysis time effecient."
   ]
  },
  {
   "cell_type": "code",
   "execution_count": 11,
   "metadata": {},
   "outputs": [],
   "source": [
    "# Save Model\n",
    "\n",
    "import joblib\n",
    "filename = './random_forest_classifier.joblib.pkl'\n",
    "_ = joblib.dump(clf_rf, filename, compress=9)"
   ]
  },
  {
   "cell_type": "markdown",
   "metadata": {},
   "source": [
    "## After our model is created, we can interpret it and get business values out of it in the next step of our workflow, which is the evaluation process."
   ]
  },
  {
   "cell_type": "markdown",
   "metadata": {},
   "source": []
  },
  {
   "cell_type": "markdown",
   "metadata": {},
   "source": []
  }
 ],
 "metadata": {
  "kernelspec": {
   "display_name": "Python 3",
   "language": "python",
   "name": "python3"
  },
  "language_info": {
   "codemirror_mode": {
    "name": "ipython",
    "version": 3
   },
   "file_extension": ".py",
   "mimetype": "text/x-python",
   "name": "python",
   "nbconvert_exporter": "python",
   "pygments_lexer": "ipython3",
   "version": "3.7.6"
  }
 },
 "nbformat": 4,
 "nbformat_minor": 4
}
