{
 "cells": [
  {
   "cell_type": "markdown",
   "metadata": {},
   "source": [
    "# DATA SCIENCE BCG INSIDE SHERPA CASE"
   ]
  },
  {
   "cell_type": "markdown",
   "metadata": {},
   "source": [
    "PowerCo is looking to solve one of its problem to see whether price sensitivity can be used to predict customers behaviour to churn or not."
   ]
  },
  {
   "cell_type": "markdown",
   "metadata": {},
   "source": [
    "## Merging Data "
   ]
  },
  {
   "cell_type": "code",
   "execution_count": 1,
   "metadata": {},
   "outputs": [],
   "source": [
    "import pandas as pd\n",
    "import numpy as np\n",
    "from datetime import datetime,  timedelta\n",
    "import matplotlib.pyplot as plt\n",
    "import matplotlib\n",
    "import seaborn as sns"
   ]
  },
  {
   "cell_type": "code",
   "execution_count": 2,
   "metadata": {},
   "outputs": [
    {
     "name": "stdout",
     "output_type": "stream",
     "text": [
      "Shape of the data: 16096 rows with 32 columns.\n"
     ]
    }
   ],
   "source": [
    "dt1 = pd.read_csv('../Data/ml_case_training_data.csv')\n",
    "print('Shape of the data: {0[0]} rows with {0[1]} columns.'.format(dt1.shape))"
   ]
  },
  {
   "cell_type": "code",
   "execution_count": 3,
   "metadata": {},
   "outputs": [
    {
     "name": "stdout",
     "output_type": "stream",
     "text": [
      "Shape of the data: 193002 rows with 8 columns.\n"
     ]
    }
   ],
   "source": [
    "dt2 = pd.read_csv('../Data/ml_case_training_hist_data.csv')\n",
    "print('Shape of the data: {0[0]} rows with {0[1]} columns.'.format(dt2.shape))"
   ]
  },
  {
   "cell_type": "code",
   "execution_count": 4,
   "metadata": {},
   "outputs": [
    {
     "name": "stdout",
     "output_type": "stream",
     "text": [
      "Shape of the data: 16096 rows with 2 columns.\n"
     ]
    }
   ],
   "source": [
    "dt3 = pd.read_csv('../Data/ml_case_training_output.csv')\n",
    "print('Shape of the data: {0[0]} rows with {0[1]} columns.'.format(dt3.shape))"
   ]
  },
  {
   "cell_type": "code",
   "execution_count": 5,
   "metadata": {},
   "outputs": [
    {
     "name": "stdout",
     "output_type": "stream",
     "text": [
      "Shape of the data: 193002 rows with 40 columns.\n"
     ]
    }
   ],
   "source": [
    "df = pd.merge(dt1, dt2, on = 'id')\n",
    "df = pd.merge(df, dt3, on = 'id')\n",
    "print('Shape of the data: {0[0]} rows with {0[1]} columns.'.format(df.shape))"
   ]
  },
  {
   "cell_type": "markdown",
   "metadata": {},
   "source": [
    "## Peeking and Cleaning the Data"
   ]
  },
  {
   "cell_type": "code",
   "execution_count": 6,
   "metadata": {},
   "outputs": [],
   "source": [
    "# Find features with missing values and understand the missing values ratio.\n",
    "def check_na(df):\n",
    "    nas =  pd.DataFrame([(x, df[x].isnull().sum()*100/len(df)) for x in df]).rename(columns= {0: 'Nas_Features' , 1:'Missing Values Ratio'})\n",
    "    \n",
    "    if nas['Missing Values Ratio'].sum() == 0:\n",
    "        print('No Missing Values Found.')\n",
    "    else:\n",
    "        return nas[nas['Missing Values Ratio'] != 0]"
   ]
  },
  {
   "cell_type": "code",
   "execution_count": 7,
   "metadata": {},
   "outputs": [
    {
     "data": {
      "text/html": [
       "<div>\n",
       "<style scoped>\n",
       "    .dataframe tbody tr th:only-of-type {\n",
       "        vertical-align: middle;\n",
       "    }\n",
       "\n",
       "    .dataframe tbody tr th {\n",
       "        vertical-align: top;\n",
       "    }\n",
       "\n",
       "    .dataframe thead th {\n",
       "        text-align: right;\n",
       "    }\n",
       "</style>\n",
       "<table border=\"1\" class=\"dataframe\">\n",
       "  <thead>\n",
       "    <tr style=\"text-align: right;\">\n",
       "      <th></th>\n",
       "      <th>Nas_Features</th>\n",
       "      <th>Missing Values Ratio</th>\n",
       "    </tr>\n",
       "  </thead>\n",
       "  <tbody>\n",
       "    <tr>\n",
       "      <th>1</th>\n",
       "      <td>activity_new</td>\n",
       "      <td>59.290577</td>\n",
       "    </tr>\n",
       "    <tr>\n",
       "      <th>2</th>\n",
       "      <td>campaign_disc_ele</td>\n",
       "      <td>100.000000</td>\n",
       "    </tr>\n",
       "    <tr>\n",
       "      <th>3</th>\n",
       "      <td>channel_sales</td>\n",
       "      <td>26.214754</td>\n",
       "    </tr>\n",
       "    <tr>\n",
       "      <th>8</th>\n",
       "      <td>date_end</td>\n",
       "      <td>0.010881</td>\n",
       "    </tr>\n",
       "    <tr>\n",
       "      <th>9</th>\n",
       "      <td>date_first_activ</td>\n",
       "      <td>78.216806</td>\n",
       "    </tr>\n",
       "    <tr>\n",
       "      <th>10</th>\n",
       "      <td>date_modif_prod</td>\n",
       "      <td>0.971493</td>\n",
       "    </tr>\n",
       "    <tr>\n",
       "      <th>11</th>\n",
       "      <td>date_renewal</td>\n",
       "      <td>0.247148</td>\n",
       "    </tr>\n",
       "    <tr>\n",
       "      <th>12</th>\n",
       "      <td>forecast_base_bill_ele</td>\n",
       "      <td>78.216806</td>\n",
       "    </tr>\n",
       "    <tr>\n",
       "      <th>13</th>\n",
       "      <td>forecast_base_bill_year</td>\n",
       "      <td>78.216806</td>\n",
       "    </tr>\n",
       "    <tr>\n",
       "      <th>14</th>\n",
       "      <td>forecast_bill_12m</td>\n",
       "      <td>78.216806</td>\n",
       "    </tr>\n",
       "    <tr>\n",
       "      <th>15</th>\n",
       "      <td>forecast_cons</td>\n",
       "      <td>78.216806</td>\n",
       "    </tr>\n",
       "    <tr>\n",
       "      <th>18</th>\n",
       "      <td>forecast_discount_energy</td>\n",
       "      <td>0.780821</td>\n",
       "    </tr>\n",
       "    <tr>\n",
       "      <th>20</th>\n",
       "      <td>forecast_price_energy_p1</td>\n",
       "      <td>0.780821</td>\n",
       "    </tr>\n",
       "    <tr>\n",
       "      <th>21</th>\n",
       "      <td>forecast_price_energy_p2</td>\n",
       "      <td>0.780821</td>\n",
       "    </tr>\n",
       "    <tr>\n",
       "      <th>22</th>\n",
       "      <td>forecast_price_pow_p1</td>\n",
       "      <td>0.780821</td>\n",
       "    </tr>\n",
       "    <tr>\n",
       "      <th>25</th>\n",
       "      <td>margin_gross_pow_ele</td>\n",
       "      <td>0.080828</td>\n",
       "    </tr>\n",
       "    <tr>\n",
       "      <th>26</th>\n",
       "      <td>margin_net_pow_ele</td>\n",
       "      <td>0.080828</td>\n",
       "    </tr>\n",
       "    <tr>\n",
       "      <th>28</th>\n",
       "      <td>net_margin</td>\n",
       "      <td>0.093263</td>\n",
       "    </tr>\n",
       "    <tr>\n",
       "      <th>30</th>\n",
       "      <td>origin_up</td>\n",
       "      <td>0.539891</td>\n",
       "    </tr>\n",
       "    <tr>\n",
       "      <th>31</th>\n",
       "      <td>pow_max</td>\n",
       "      <td>0.018653</td>\n",
       "    </tr>\n",
       "    <tr>\n",
       "      <th>33</th>\n",
       "      <td>price_p1_var</td>\n",
       "      <td>0.704138</td>\n",
       "    </tr>\n",
       "    <tr>\n",
       "      <th>34</th>\n",
       "      <td>price_p2_var</td>\n",
       "      <td>0.704138</td>\n",
       "    </tr>\n",
       "    <tr>\n",
       "      <th>35</th>\n",
       "      <td>price_p3_var</td>\n",
       "      <td>0.704138</td>\n",
       "    </tr>\n",
       "    <tr>\n",
       "      <th>36</th>\n",
       "      <td>price_p1_fix</td>\n",
       "      <td>0.704138</td>\n",
       "    </tr>\n",
       "    <tr>\n",
       "      <th>37</th>\n",
       "      <td>price_p2_fix</td>\n",
       "      <td>0.704138</td>\n",
       "    </tr>\n",
       "    <tr>\n",
       "      <th>38</th>\n",
       "      <td>price_p3_fix</td>\n",
       "      <td>0.704138</td>\n",
       "    </tr>\n",
       "  </tbody>\n",
       "</table>\n",
       "</div>"
      ],
      "text/plain": [
       "                Nas_Features  Missing Values Ratio\n",
       "1               activity_new             59.290577\n",
       "2          campaign_disc_ele            100.000000\n",
       "3              channel_sales             26.214754\n",
       "8                   date_end              0.010881\n",
       "9           date_first_activ             78.216806\n",
       "10           date_modif_prod              0.971493\n",
       "11              date_renewal              0.247148\n",
       "12    forecast_base_bill_ele             78.216806\n",
       "13   forecast_base_bill_year             78.216806\n",
       "14         forecast_bill_12m             78.216806\n",
       "15             forecast_cons             78.216806\n",
       "18  forecast_discount_energy              0.780821\n",
       "20  forecast_price_energy_p1              0.780821\n",
       "21  forecast_price_energy_p2              0.780821\n",
       "22     forecast_price_pow_p1              0.780821\n",
       "25      margin_gross_pow_ele              0.080828\n",
       "26        margin_net_pow_ele              0.080828\n",
       "28                net_margin              0.093263\n",
       "30                 origin_up              0.539891\n",
       "31                   pow_max              0.018653\n",
       "33              price_p1_var              0.704138\n",
       "34              price_p2_var              0.704138\n",
       "35              price_p3_var              0.704138\n",
       "36              price_p1_fix              0.704138\n",
       "37              price_p2_fix              0.704138\n",
       "38              price_p3_fix              0.704138"
      ]
     },
     "execution_count": 7,
     "metadata": {},
     "output_type": "execute_result"
    }
   ],
   "source": [
    "check_na(df)"
   ]
  },
  {
   "cell_type": "markdown",
   "metadata": {},
   "source": [
    "## Exploratory Data Analysis"
   ]
  },
  {
   "cell_type": "markdown",
   "metadata": {},
   "source": [
    "Top 8 activity with customer churning at the end"
   ]
  },
  {
   "cell_type": "code",
   "execution_count": 8,
   "metadata": {},
   "outputs": [
    {
     "data": {
      "text/plain": [
       "activity_new\n",
       "apdekpcbwosbxepsfxclislboipuxpop    1116\n",
       "kkklcdamwfafdcfwofuscwfwadblfmce     455\n",
       "fmwdwsxillemwbbwelxsampiuwwpcdcb     384\n",
       "kwuslieomapmswolewpobpplkaooaaew     359\n",
       "wxemiwkumpibllwklfbcooafckufkdlm     204\n",
       "cluecxlameloamldmasudocsbmaoamdw     168\n",
       "ckfxocssowaeipxueikxcmaxdmcduxsa     156\n",
       "cwofmuicebbcmiaaxufmfimpowpacobu     144\n",
       "Name: churn, dtype: int64"
      ]
     },
     "execution_count": 8,
     "metadata": {},
     "output_type": "execute_result"
    }
   ],
   "source": [
    "df.groupby('activity_new').agg(sum)['churn'].sort_values(ascending = False)[0:8]"
   ]
  },
  {
   "cell_type": "markdown",
   "metadata": {},
   "source": [
    "Top 8 channel sales with customer churning at the end"
   ]
  },
  {
   "cell_type": "code",
   "execution_count": 9,
   "metadata": {},
   "outputs": [
    {
     "data": {
      "text/plain": [
       "channel_sales\n",
       "foosdfpfkusacimwkcsosbicdxkicaua    11041\n",
       "usilxuppasemubllopkaafesmlibmsdf     1798\n",
       "lmkebamcaaclubfxadlmueccxoimlema     1390\n",
       "ewpakwlliwisiwduibdlfmalxowmwpci      983\n",
       "sddiedcslfslkckwlfkdpoeeailfpeds        0\n",
       "fixdbufsefwooaasfcxdxadsiekoceaa        0\n",
       "epumfxlbckeskwekxbiuasklxalciiuu        0\n",
       "Name: churn, dtype: int64"
      ]
     },
     "execution_count": 9,
     "metadata": {},
     "output_type": "execute_result"
    }
   ],
   "source": [
    "df.groupby('channel_sales').agg(sum)['churn'].sort_values(ascending = False)[0:8]"
   ]
  },
  {
   "cell_type": "code",
   "execution_count": 10,
   "metadata": {},
   "outputs": [
    {
     "data": {
      "image/png": "[encoded data removed]",
      "text/plain": [
       "<Figure size 864x432 with 1 Axes>"
      ]
     },
     "metadata": {
      "needs_background": "light"
     },
     "output_type": "display_data"
    }
   ],
   "source": [
    "plt.figure(figsize = (12, 6))\n",
    "sns.distplot(df['price_p1_var'], label = 'First Period Energy Price')\n",
    "sns.distplot(df['price_p2_var'], label = 'Second Period Energy Price')\n",
    "sns.distplot(df['price_p3_var'], label = 'Third Period Energy Price')\n",
    "plt.title('Distribution Graph for First, Second, and Third Period of Energy Price')\n",
    "plt.legend();"
   ]
  },
  {
   "cell_type": "code",
   "execution_count": 11,
   "metadata": {},
   "outputs": [
    {
     "data": {
      "image/png": "[encoded data removed]",
      "text/plain": [
       "<Figure size 864x432 with 1 Axes>"
      ]
     },
     "metadata": {
      "needs_background": "light"
     },
     "output_type": "display_data"
    }
   ],
   "source": [
    "plt.figure(figsize = (12, 6))\n",
    "sns.distplot(df['price_p1_fix'], label = 'First Period Power Price')\n",
    "sns.distplot(df['price_p2_fix'], label = 'Second Period Power Price')\n",
    "sns.distplot(df['price_p3_fix'], label = 'Third Period Power Price')\n",
    "plt.title('Distribution Graph for First, Second, and Third Period of Power Price')\n",
    "plt.legend();"
   ]
  },
  {
   "cell_type": "code",
   "execution_count": 12,
   "metadata": {},
   "outputs": [
    {
     "data": {
      "image/png": "[encoded data removed]",
      "text/plain": [
       "<Figure size 432x288 with 1 Axes>"
      ]
     },
     "metadata": {
      "needs_background": "light"
     },
     "output_type": "display_data"
    }
   ],
   "source": [
    "ax = df.groupby('churn').agg('sum')['net_margin'].plot(kind = 'bar', \n",
    "                                                       color = 'red', )\n",
    "\n",
    "plt.title('Churn and Net Margin Relation')\n",
    "plt.xticks([0, 1],['Not Churn', 'Churn'], rotation = 45)\n",
    "plt.xlabel('')\n",
    "plt.ylabel('Value in Million Dollars')\n",
    "\n",
    "ax.get_yaxis().set_major_formatter(\n",
    "    matplotlib.ticker.FuncFormatter(lambda x, p: format(int(x)/10**6, ',')))\n",
    "\n",
    "for p in ax.patches:\n",
    "    width = p.get_width()\n",
    "    height = p.get_height()\n",
    "    x, y = p.get_xy() \n",
    "    ax.annotate(f'${height:.2f}', (x + width/2, y + height*.5), ha='center')"
   ]
  },
  {
   "cell_type": "markdown",
   "metadata": {},
   "source": [
    "**Identifying values with high correlation.**"
   ]
  },
  {
   "cell_type": "code",
   "execution_count": 13,
   "metadata": {},
   "outputs": [
    {
     "data": {
      "image/png": "[encoded data removed]",
      "text/plain": [
       "<Figure size 720x720 with 2 Axes>"
      ]
     },
     "metadata": {
      "needs_background": "light"
     },
     "output_type": "display_data"
    }
   ],
   "source": [
    "numeric_features =  df.drop('churn', axis = 1).dtypes[df.dtypes != 'object'].index\n",
    "\n",
    "corrmat = df[numeric_features].corr()\n",
    "plt.figure(figsize=(10,10))\n",
    "g = sns.heatmap(corrmat,annot=False,cmap=\"RdYlGn\")"
   ]
  },
  {
   "cell_type": "markdown",
   "metadata": {},
   "source": [
    "### Simple Imputer to fill missing values with their average."
   ]
  },
  {
   "cell_type": "markdown",
   "metadata": {},
   "source": [
    "First we shall convert the skewed data into more of a normal distribution using log transformation."
   ]
  },
  {
   "cell_type": "code",
   "execution_count": 14,
   "metadata": {},
   "outputs": [
    {
     "data": {
      "image/png": "[encoded data removed]",
      "text/plain": [
       "<Figure size 576x576 with 4 Axes>"
      ]
     },
     "metadata": {
      "needs_background": "light"
     },
     "output_type": "display_data"
    }
   ],
   "source": [
    "i = 1\n",
    "fig, axs = plt.subplots(2, 2, figsize = (8, 8))\n",
    "for x in ['forecast_base_bill_ele', 'forecast_base_bill_year', \n",
    "         'forecast_bill_12m', 'forecast_cons']:\n",
    "    plt.subplot(2, 2, i)\n",
    "    sns.distplot(df[x])\n",
    "    df[x] = df[x].fillna(df[x].mean(skipna=True))\n",
    "    i=i+1;\n",
    "fig.suptitle('Forecasts Data', fontsize=16)\n",
    "plt.tight_layout()"
   ]
  },
  {
   "cell_type": "code",
   "execution_count": 15,
   "metadata": {},
   "outputs": [
    {
     "data": {
      "text/html": [
       "<div>\n",
       "<style scoped>\n",
       "    .dataframe tbody tr th:only-of-type {\n",
       "        vertical-align: middle;\n",
       "    }\n",
       "\n",
       "    .dataframe tbody tr th {\n",
       "        vertical-align: top;\n",
       "    }\n",
       "\n",
       "    .dataframe thead th {\n",
       "        text-align: right;\n",
       "    }\n",
       "</style>\n",
       "<table border=\"1\" class=\"dataframe\">\n",
       "  <thead>\n",
       "    <tr style=\"text-align: right;\">\n",
       "      <th></th>\n",
       "      <th>Nas_Features</th>\n",
       "      <th>Missing Values Ratio</th>\n",
       "    </tr>\n",
       "  </thead>\n",
       "  <tbody>\n",
       "    <tr>\n",
       "      <th>1</th>\n",
       "      <td>activity_new</td>\n",
       "      <td>59.290577</td>\n",
       "    </tr>\n",
       "    <tr>\n",
       "      <th>2</th>\n",
       "      <td>campaign_disc_ele</td>\n",
       "      <td>100.000000</td>\n",
       "    </tr>\n",
       "    <tr>\n",
       "      <th>3</th>\n",
       "      <td>channel_sales</td>\n",
       "      <td>26.214754</td>\n",
       "    </tr>\n",
       "    <tr>\n",
       "      <th>8</th>\n",
       "      <td>date_end</td>\n",
       "      <td>0.010881</td>\n",
       "    </tr>\n",
       "    <tr>\n",
       "      <th>9</th>\n",
       "      <td>date_first_activ</td>\n",
       "      <td>78.216806</td>\n",
       "    </tr>\n",
       "    <tr>\n",
       "      <th>10</th>\n",
       "      <td>date_modif_prod</td>\n",
       "      <td>0.971493</td>\n",
       "    </tr>\n",
       "    <tr>\n",
       "      <th>11</th>\n",
       "      <td>date_renewal</td>\n",
       "      <td>0.247148</td>\n",
       "    </tr>\n",
       "    <tr>\n",
       "      <th>18</th>\n",
       "      <td>forecast_discount_energy</td>\n",
       "      <td>0.780821</td>\n",
       "    </tr>\n",
       "    <tr>\n",
       "      <th>20</th>\n",
       "      <td>forecast_price_energy_p1</td>\n",
       "      <td>0.780821</td>\n",
       "    </tr>\n",
       "    <tr>\n",
       "      <th>21</th>\n",
       "      <td>forecast_price_energy_p2</td>\n",
       "      <td>0.780821</td>\n",
       "    </tr>\n",
       "    <tr>\n",
       "      <th>22</th>\n",
       "      <td>forecast_price_pow_p1</td>\n",
       "      <td>0.780821</td>\n",
       "    </tr>\n",
       "    <tr>\n",
       "      <th>25</th>\n",
       "      <td>margin_gross_pow_ele</td>\n",
       "      <td>0.080828</td>\n",
       "    </tr>\n",
       "    <tr>\n",
       "      <th>26</th>\n",
       "      <td>margin_net_pow_ele</td>\n",
       "      <td>0.080828</td>\n",
       "    </tr>\n",
       "    <tr>\n",
       "      <th>28</th>\n",
       "      <td>net_margin</td>\n",
       "      <td>0.093263</td>\n",
       "    </tr>\n",
       "    <tr>\n",
       "      <th>30</th>\n",
       "      <td>origin_up</td>\n",
       "      <td>0.539891</td>\n",
       "    </tr>\n",
       "    <tr>\n",
       "      <th>31</th>\n",
       "      <td>pow_max</td>\n",
       "      <td>0.018653</td>\n",
       "    </tr>\n",
       "    <tr>\n",
       "      <th>33</th>\n",
       "      <td>price_p1_var</td>\n",
       "      <td>0.704138</td>\n",
       "    </tr>\n",
       "    <tr>\n",
       "      <th>34</th>\n",
       "      <td>price_p2_var</td>\n",
       "      <td>0.704138</td>\n",
       "    </tr>\n",
       "    <tr>\n",
       "      <th>35</th>\n",
       "      <td>price_p3_var</td>\n",
       "      <td>0.704138</td>\n",
       "    </tr>\n",
       "    <tr>\n",
       "      <th>36</th>\n",
       "      <td>price_p1_fix</td>\n",
       "      <td>0.704138</td>\n",
       "    </tr>\n",
       "    <tr>\n",
       "      <th>37</th>\n",
       "      <td>price_p2_fix</td>\n",
       "      <td>0.704138</td>\n",
       "    </tr>\n",
       "    <tr>\n",
       "      <th>38</th>\n",
       "      <td>price_p3_fix</td>\n",
       "      <td>0.704138</td>\n",
       "    </tr>\n",
       "  </tbody>\n",
       "</table>\n",
       "</div>"
      ],
      "text/plain": [
       "                Nas_Features  Missing Values Ratio\n",
       "1               activity_new             59.290577\n",
       "2          campaign_disc_ele            100.000000\n",
       "3              channel_sales             26.214754\n",
       "8                   date_end              0.010881\n",
       "9           date_first_activ             78.216806\n",
       "10           date_modif_prod              0.971493\n",
       "11              date_renewal              0.247148\n",
       "18  forecast_discount_energy              0.780821\n",
       "20  forecast_price_energy_p1              0.780821\n",
       "21  forecast_price_energy_p2              0.780821\n",
       "22     forecast_price_pow_p1              0.780821\n",
       "25      margin_gross_pow_ele              0.080828\n",
       "26        margin_net_pow_ele              0.080828\n",
       "28                net_margin              0.093263\n",
       "30                 origin_up              0.539891\n",
       "31                   pow_max              0.018653\n",
       "33              price_p1_var              0.704138\n",
       "34              price_p2_var              0.704138\n",
       "35              price_p3_var              0.704138\n",
       "36              price_p1_fix              0.704138\n",
       "37              price_p2_fix              0.704138\n",
       "38              price_p3_fix              0.704138"
      ]
     },
     "execution_count": 15,
     "metadata": {},
     "output_type": "execute_result"
    }
   ],
   "source": [
    "check_na(df)"
   ]
  },
  {
   "cell_type": "markdown",
   "metadata": {},
   "source": [
    "Some features are filled with a lot of missing values. Also we have some columns that we probably won't need for this problem. The next step is to deal with this problem."
   ]
  },
  {
   "cell_type": "code",
   "execution_count": 16,
   "metadata": {},
   "outputs": [],
   "source": [
    "# Imputing Missing values on dates data\n",
    "\n",
    "def impute_dates(df):\n",
    "    columns_dates = ['date_modif_prod','date_end', 'date_renewal']\n",
    "    \n",
    "    for col in columns_dates:\n",
    "        df.loc[df[col].isnull(), col] = df[col].value_counts().index[0]\n",
    "impute_dates(df)"
   ]
  },
  {
   "cell_type": "code",
   "execution_count": 17,
   "metadata": {},
   "outputs": [],
   "source": [
    "# Convert date information to date data type\n",
    "\n",
    "def convert_to_dates(df):\n",
    "    col_to_convert = ['date_activ', 'date_modif_prod',\n",
    "                      'price_date', 'date_end', 'date_renewal']\n",
    "    \n",
    "    for col in col_to_convert:\n",
    "        df[col] = pd.to_datetime(df[col], format = '%Y-%m-%d')\n",
    "        \n",
    "convert_to_dates(df)"
   ]
  },
  {
   "cell_type": "code",
   "execution_count": 19,
   "metadata": {},
   "outputs": [],
   "source": [
    "# Replace Negative Values with averages.\n",
    "\n",
    "def replace_negatives(df):\n",
    "    col_to_find = df.drop('churn', axis = 1).dtypes[(df.dtypes == 'int64') | (df.dtypes == 'float64')].index\n",
    "    \n",
    "    for x in list(col_to_find):\n",
    "        df.loc[df[x] < 0 , x] = df.loc[df[x]>0, x].mean()\n",
    "        \n",
    "replace_negatives(df)"
   ]
  },
  {
   "cell_type": "code",
   "execution_count": 20,
   "metadata": {},
   "outputs": [],
   "source": [
    "# Fill in Missing Categorical information\n",
    "\n",
    "def fill_na(df):\n",
    "    col_to_impute = ['activity_new', 'channel_sales', 'id', 'origin_up']\n",
    "    \n",
    "    for col in col_to_impute:\n",
    "        \n",
    "        name_ = 'Missing_' + col\n",
    "        df[col_to_impute]= df[col_to_impute].fillna(name_)\n",
    "        \n",
    "fill_na(df)"
   ]
  },
  {
   "cell_type": "code",
   "execution_count": 21,
   "metadata": {},
   "outputs": [],
   "source": [
    "# Fill in Missing Numeric Variable\n",
    "def impute_numeric(df):\n",
    "    col_to_find = df.drop('churn', axis = 1).dtypes[df.dtypes == 'float64'].index\n",
    "    for x in list(col_to_find):\n",
    "        median = df[x].median(skipna = True)\n",
    "        df.loc[df[x].isnull(), x] = median\n",
    "impute_numeric(df)"
   ]
  },
  {
   "cell_type": "code",
   "execution_count": 22,
   "metadata": {},
   "outputs": [],
   "source": [
    "list_to_drop = ['campaign_disc_ele', 'date_first_activ']\n",
    "\n",
    "df.drop(list_to_drop, inplace = True, axis = 1 ,errors = 'raise')\n",
    "\n",
    "df.dropna(axis = 0, inplace = True)"
   ]
  },
  {
   "cell_type": "code",
   "execution_count": 23,
   "metadata": {},
   "outputs": [
    {
     "name": "stdout",
     "output_type": "stream",
     "text": [
      "No Missing Values Found.\n",
      "Shape of the data: 193002 rows with 38 columns.\n"
     ]
    }
   ],
   "source": [
    "check_na(df)\n",
    "print('Shape of the data: {0[0]} rows with {0[1]} columns.'.format(df.shape))"
   ]
  },
  {
   "cell_type": "code",
   "execution_count": 24,
   "metadata": {},
   "outputs": [
    {
     "data": {
      "text/html": [
       "<div>\n",
       "<style scoped>\n",
       "    .dataframe tbody tr th:only-of-type {\n",
       "        vertical-align: middle;\n",
       "    }\n",
       "\n",
       "    .dataframe tbody tr th {\n",
       "        vertical-align: top;\n",
       "    }\n",
       "\n",
       "    .dataframe thead th {\n",
       "        text-align: right;\n",
       "    }\n",
       "</style>\n",
       "<table border=\"1\" class=\"dataframe\">\n",
       "  <thead>\n",
       "    <tr style=\"text-align: right;\">\n",
       "      <th></th>\n",
       "      <th>id</th>\n",
       "      <th>activity_new</th>\n",
       "      <th>channel_sales</th>\n",
       "      <th>cons_12m</th>\n",
       "      <th>cons_gas_12m</th>\n",
       "      <th>cons_last_month</th>\n",
       "      <th>date_activ</th>\n",
       "      <th>date_end</th>\n",
       "      <th>date_modif_prod</th>\n",
       "      <th>date_renewal</th>\n",
       "      <th>...</th>\n",
       "      <th>origin_up</th>\n",
       "      <th>pow_max</th>\n",
       "      <th>price_date</th>\n",
       "      <th>price_p1_var</th>\n",
       "      <th>price_p2_var</th>\n",
       "      <th>price_p3_var</th>\n",
       "      <th>price_p1_fix</th>\n",
       "      <th>price_p2_fix</th>\n",
       "      <th>price_p3_fix</th>\n",
       "      <th>churn</th>\n",
       "    </tr>\n",
       "  </thead>\n",
       "  <tbody>\n",
       "    <tr>\n",
       "      <th>0</th>\n",
       "      <td>48ada52261e7cf58715202705a0451c9</td>\n",
       "      <td>esoiiifxdlbkcsluxmfuacbdckommixw</td>\n",
       "      <td>lmkebamcaaclubfxadlmueccxoimlema</td>\n",
       "      <td>309275.0</td>\n",
       "      <td>0.0</td>\n",
       "      <td>10025.0</td>\n",
       "      <td>2012-11-07</td>\n",
       "      <td>2016-11-06</td>\n",
       "      <td>2012-11-07</td>\n",
       "      <td>2015-11-09</td>\n",
       "      <td>...</td>\n",
       "      <td>ldkssxwpmemidmecebumciepifcamkci</td>\n",
       "      <td>180.000</td>\n",
       "      <td>2015-01-01</td>\n",
       "      <td>0.106043</td>\n",
       "      <td>0.093474</td>\n",
       "      <td>0.067378</td>\n",
       "      <td>58.936774</td>\n",
       "      <td>36.344726</td>\n",
       "      <td>8.33426</td>\n",
       "      <td>0</td>\n",
       "    </tr>\n",
       "    <tr>\n",
       "      <th>1</th>\n",
       "      <td>48ada52261e7cf58715202705a0451c9</td>\n",
       "      <td>esoiiifxdlbkcsluxmfuacbdckommixw</td>\n",
       "      <td>lmkebamcaaclubfxadlmueccxoimlema</td>\n",
       "      <td>309275.0</td>\n",
       "      <td>0.0</td>\n",
       "      <td>10025.0</td>\n",
       "      <td>2012-11-07</td>\n",
       "      <td>2016-11-06</td>\n",
       "      <td>2012-11-07</td>\n",
       "      <td>2015-11-09</td>\n",
       "      <td>...</td>\n",
       "      <td>ldkssxwpmemidmecebumciepifcamkci</td>\n",
       "      <td>180.000</td>\n",
       "      <td>2015-02-01</td>\n",
       "      <td>0.106043</td>\n",
       "      <td>0.093474</td>\n",
       "      <td>0.067378</td>\n",
       "      <td>58.936774</td>\n",
       "      <td>36.344726</td>\n",
       "      <td>8.33426</td>\n",
       "      <td>0</td>\n",
       "    </tr>\n",
       "    <tr>\n",
       "      <th>2</th>\n",
       "      <td>48ada52261e7cf58715202705a0451c9</td>\n",
       "      <td>esoiiifxdlbkcsluxmfuacbdckommixw</td>\n",
       "      <td>lmkebamcaaclubfxadlmueccxoimlema</td>\n",
       "      <td>309275.0</td>\n",
       "      <td>0.0</td>\n",
       "      <td>10025.0</td>\n",
       "      <td>2012-11-07</td>\n",
       "      <td>2016-11-06</td>\n",
       "      <td>2012-11-07</td>\n",
       "      <td>2015-11-09</td>\n",
       "      <td>...</td>\n",
       "      <td>ldkssxwpmemidmecebumciepifcamkci</td>\n",
       "      <td>180.000</td>\n",
       "      <td>2015-03-01</td>\n",
       "      <td>0.106043</td>\n",
       "      <td>0.093474</td>\n",
       "      <td>0.067378</td>\n",
       "      <td>58.936774</td>\n",
       "      <td>36.344726</td>\n",
       "      <td>8.33426</td>\n",
       "      <td>0</td>\n",
       "    </tr>\n",
       "    <tr>\n",
       "      <th>3</th>\n",
       "      <td>48ada52261e7cf58715202705a0451c9</td>\n",
       "      <td>esoiiifxdlbkcsluxmfuacbdckommixw</td>\n",
       "      <td>lmkebamcaaclubfxadlmueccxoimlema</td>\n",
       "      <td>309275.0</td>\n",
       "      <td>0.0</td>\n",
       "      <td>10025.0</td>\n",
       "      <td>2012-11-07</td>\n",
       "      <td>2016-11-06</td>\n",
       "      <td>2012-11-07</td>\n",
       "      <td>2015-11-09</td>\n",
       "      <td>...</td>\n",
       "      <td>ldkssxwpmemidmecebumciepifcamkci</td>\n",
       "      <td>180.000</td>\n",
       "      <td>2015-04-01</td>\n",
       "      <td>0.106043</td>\n",
       "      <td>0.093474</td>\n",
       "      <td>0.067378</td>\n",
       "      <td>58.936774</td>\n",
       "      <td>36.344726</td>\n",
       "      <td>8.33426</td>\n",
       "      <td>0</td>\n",
       "    </tr>\n",
       "    <tr>\n",
       "      <th>4</th>\n",
       "      <td>48ada52261e7cf58715202705a0451c9</td>\n",
       "      <td>esoiiifxdlbkcsluxmfuacbdckommixw</td>\n",
       "      <td>lmkebamcaaclubfxadlmueccxoimlema</td>\n",
       "      <td>309275.0</td>\n",
       "      <td>0.0</td>\n",
       "      <td>10025.0</td>\n",
       "      <td>2012-11-07</td>\n",
       "      <td>2016-11-06</td>\n",
       "      <td>2012-11-07</td>\n",
       "      <td>2015-11-09</td>\n",
       "      <td>...</td>\n",
       "      <td>ldkssxwpmemidmecebumciepifcamkci</td>\n",
       "      <td>180.000</td>\n",
       "      <td>2015-05-01</td>\n",
       "      <td>0.106043</td>\n",
       "      <td>0.093474</td>\n",
       "      <td>0.067378</td>\n",
       "      <td>58.936774</td>\n",
       "      <td>36.344726</td>\n",
       "      <td>8.33426</td>\n",
       "      <td>0</td>\n",
       "    </tr>\n",
       "    <tr>\n",
       "      <th>...</th>\n",
       "      <td>...</td>\n",
       "      <td>...</td>\n",
       "      <td>...</td>\n",
       "      <td>...</td>\n",
       "      <td>...</td>\n",
       "      <td>...</td>\n",
       "      <td>...</td>\n",
       "      <td>...</td>\n",
       "      <td>...</td>\n",
       "      <td>...</td>\n",
       "      <td>...</td>\n",
       "      <td>...</td>\n",
       "      <td>...</td>\n",
       "      <td>...</td>\n",
       "      <td>...</td>\n",
       "      <td>...</td>\n",
       "      <td>...</td>\n",
       "      <td>...</td>\n",
       "      <td>...</td>\n",
       "      <td>...</td>\n",
       "      <td>...</td>\n",
       "    </tr>\n",
       "    <tr>\n",
       "      <th>192997</th>\n",
       "      <td>563dde550fd624d7352f3de77c0cdfcd</td>\n",
       "      <td>Missing_activity_new</td>\n",
       "      <td>Missing_activity_new</td>\n",
       "      <td>8730.0</td>\n",
       "      <td>0.0</td>\n",
       "      <td>0.0</td>\n",
       "      <td>2009-12-18</td>\n",
       "      <td>2016-12-17</td>\n",
       "      <td>2009-12-18</td>\n",
       "      <td>2015-12-21</td>\n",
       "      <td>...</td>\n",
       "      <td>ldkssxwpmemidmecebumciepifcamkci</td>\n",
       "      <td>10.392</td>\n",
       "      <td>2015-08-01</td>\n",
       "      <td>0.165962</td>\n",
       "      <td>0.086905</td>\n",
       "      <td>0.000000</td>\n",
       "      <td>44.266930</td>\n",
       "      <td>0.000000</td>\n",
       "      <td>0.00000</td>\n",
       "      <td>0</td>\n",
       "    </tr>\n",
       "    <tr>\n",
       "      <th>192998</th>\n",
       "      <td>563dde550fd624d7352f3de77c0cdfcd</td>\n",
       "      <td>Missing_activity_new</td>\n",
       "      <td>Missing_activity_new</td>\n",
       "      <td>8730.0</td>\n",
       "      <td>0.0</td>\n",
       "      <td>0.0</td>\n",
       "      <td>2009-12-18</td>\n",
       "      <td>2016-12-17</td>\n",
       "      <td>2009-12-18</td>\n",
       "      <td>2015-12-21</td>\n",
       "      <td>...</td>\n",
       "      <td>ldkssxwpmemidmecebumciepifcamkci</td>\n",
       "      <td>10.392</td>\n",
       "      <td>2015-09-01</td>\n",
       "      <td>0.165962</td>\n",
       "      <td>0.086905</td>\n",
       "      <td>0.000000</td>\n",
       "      <td>44.266930</td>\n",
       "      <td>0.000000</td>\n",
       "      <td>0.00000</td>\n",
       "      <td>0</td>\n",
       "    </tr>\n",
       "    <tr>\n",
       "      <th>192999</th>\n",
       "      <td>563dde550fd624d7352f3de77c0cdfcd</td>\n",
       "      <td>Missing_activity_new</td>\n",
       "      <td>Missing_activity_new</td>\n",
       "      <td>8730.0</td>\n",
       "      <td>0.0</td>\n",
       "      <td>0.0</td>\n",
       "      <td>2009-12-18</td>\n",
       "      <td>2016-12-17</td>\n",
       "      <td>2009-12-18</td>\n",
       "      <td>2015-12-21</td>\n",
       "      <td>...</td>\n",
       "      <td>ldkssxwpmemidmecebumciepifcamkci</td>\n",
       "      <td>10.392</td>\n",
       "      <td>2015-10-01</td>\n",
       "      <td>0.165962</td>\n",
       "      <td>0.086905</td>\n",
       "      <td>0.000000</td>\n",
       "      <td>44.266930</td>\n",
       "      <td>0.000000</td>\n",
       "      <td>0.00000</td>\n",
       "      <td>0</td>\n",
       "    </tr>\n",
       "    <tr>\n",
       "      <th>193000</th>\n",
       "      <td>563dde550fd624d7352f3de77c0cdfcd</td>\n",
       "      <td>Missing_activity_new</td>\n",
       "      <td>Missing_activity_new</td>\n",
       "      <td>8730.0</td>\n",
       "      <td>0.0</td>\n",
       "      <td>0.0</td>\n",
       "      <td>2009-12-18</td>\n",
       "      <td>2016-12-17</td>\n",
       "      <td>2009-12-18</td>\n",
       "      <td>2015-12-21</td>\n",
       "      <td>...</td>\n",
       "      <td>ldkssxwpmemidmecebumciepifcamkci</td>\n",
       "      <td>10.392</td>\n",
       "      <td>2015-11-01</td>\n",
       "      <td>0.165962</td>\n",
       "      <td>0.086905</td>\n",
       "      <td>0.000000</td>\n",
       "      <td>44.266930</td>\n",
       "      <td>0.000000</td>\n",
       "      <td>0.00000</td>\n",
       "      <td>0</td>\n",
       "    </tr>\n",
       "    <tr>\n",
       "      <th>193001</th>\n",
       "      <td>563dde550fd624d7352f3de77c0cdfcd</td>\n",
       "      <td>Missing_activity_new</td>\n",
       "      <td>Missing_activity_new</td>\n",
       "      <td>8730.0</td>\n",
       "      <td>0.0</td>\n",
       "      <td>0.0</td>\n",
       "      <td>2009-12-18</td>\n",
       "      <td>2016-12-17</td>\n",
       "      <td>2009-12-18</td>\n",
       "      <td>2015-12-21</td>\n",
       "      <td>...</td>\n",
       "      <td>ldkssxwpmemidmecebumciepifcamkci</td>\n",
       "      <td>10.392</td>\n",
       "      <td>2015-12-01</td>\n",
       "      <td>0.165962</td>\n",
       "      <td>0.086905</td>\n",
       "      <td>0.000000</td>\n",
       "      <td>44.266930</td>\n",
       "      <td>0.000000</td>\n",
       "      <td>0.00000</td>\n",
       "      <td>0</td>\n",
       "    </tr>\n",
       "  </tbody>\n",
       "</table>\n",
       "<p>193002 rows × 38 columns</p>\n",
       "</div>"
      ],
      "text/plain": [
       "                                      id                      activity_new  \\\n",
       "0       48ada52261e7cf58715202705a0451c9  esoiiifxdlbkcsluxmfuacbdckommixw   \n",
       "1       48ada52261e7cf58715202705a0451c9  esoiiifxdlbkcsluxmfuacbdckommixw   \n",
       "2       48ada52261e7cf58715202705a0451c9  esoiiifxdlbkcsluxmfuacbdckommixw   \n",
       "3       48ada52261e7cf58715202705a0451c9  esoiiifxdlbkcsluxmfuacbdckommixw   \n",
       "4       48ada52261e7cf58715202705a0451c9  esoiiifxdlbkcsluxmfuacbdckommixw   \n",
       "...                                  ...                               ...   \n",
       "192997  563dde550fd624d7352f3de77c0cdfcd              Missing_activity_new   \n",
       "192998  563dde550fd624d7352f3de77c0cdfcd              Missing_activity_new   \n",
       "192999  563dde550fd624d7352f3de77c0cdfcd              Missing_activity_new   \n",
       "193000  563dde550fd624d7352f3de77c0cdfcd              Missing_activity_new   \n",
       "193001  563dde550fd624d7352f3de77c0cdfcd              Missing_activity_new   \n",
       "\n",
       "                           channel_sales  cons_12m  cons_gas_12m  \\\n",
       "0       lmkebamcaaclubfxadlmueccxoimlema  309275.0           0.0   \n",
       "1       lmkebamcaaclubfxadlmueccxoimlema  309275.0           0.0   \n",
       "2       lmkebamcaaclubfxadlmueccxoimlema  309275.0           0.0   \n",
       "3       lmkebamcaaclubfxadlmueccxoimlema  309275.0           0.0   \n",
       "4       lmkebamcaaclubfxadlmueccxoimlema  309275.0           0.0   \n",
       "...                                  ...       ...           ...   \n",
       "192997              Missing_activity_new    8730.0           0.0   \n",
       "192998              Missing_activity_new    8730.0           0.0   \n",
       "192999              Missing_activity_new    8730.0           0.0   \n",
       "193000              Missing_activity_new    8730.0           0.0   \n",
       "193001              Missing_activity_new    8730.0           0.0   \n",
       "\n",
       "        cons_last_month date_activ   date_end date_modif_prod date_renewal  \\\n",
       "0               10025.0 2012-11-07 2016-11-06      2012-11-07   2015-11-09   \n",
       "1               10025.0 2012-11-07 2016-11-06      2012-11-07   2015-11-09   \n",
       "2               10025.0 2012-11-07 2016-11-06      2012-11-07   2015-11-09   \n",
       "3               10025.0 2012-11-07 2016-11-06      2012-11-07   2015-11-09   \n",
       "4               10025.0 2012-11-07 2016-11-06      2012-11-07   2015-11-09   \n",
       "...                 ...        ...        ...             ...          ...   \n",
       "192997              0.0 2009-12-18 2016-12-17      2009-12-18   2015-12-21   \n",
       "192998              0.0 2009-12-18 2016-12-17      2009-12-18   2015-12-21   \n",
       "192999              0.0 2009-12-18 2016-12-17      2009-12-18   2015-12-21   \n",
       "193000              0.0 2009-12-18 2016-12-17      2009-12-18   2015-12-21   \n",
       "193001              0.0 2009-12-18 2016-12-17      2009-12-18   2015-12-21   \n",
       "\n",
       "        ...                         origin_up  pow_max  price_date  \\\n",
       "0       ...  ldkssxwpmemidmecebumciepifcamkci  180.000  2015-01-01   \n",
       "1       ...  ldkssxwpmemidmecebumciepifcamkci  180.000  2015-02-01   \n",
       "2       ...  ldkssxwpmemidmecebumciepifcamkci  180.000  2015-03-01   \n",
       "3       ...  ldkssxwpmemidmecebumciepifcamkci  180.000  2015-04-01   \n",
       "4       ...  ldkssxwpmemidmecebumciepifcamkci  180.000  2015-05-01   \n",
       "...     ...                               ...      ...         ...   \n",
       "192997  ...  ldkssxwpmemidmecebumciepifcamkci   10.392  2015-08-01   \n",
       "192998  ...  ldkssxwpmemidmecebumciepifcamkci   10.392  2015-09-01   \n",
       "192999  ...  ldkssxwpmemidmecebumciepifcamkci   10.392  2015-10-01   \n",
       "193000  ...  ldkssxwpmemidmecebumciepifcamkci   10.392  2015-11-01   \n",
       "193001  ...  ldkssxwpmemidmecebumciepifcamkci   10.392  2015-12-01   \n",
       "\n",
       "        price_p1_var  price_p2_var  price_p3_var  price_p1_fix  price_p2_fix  \\\n",
       "0           0.106043      0.093474      0.067378     58.936774     36.344726   \n",
       "1           0.106043      0.093474      0.067378     58.936774     36.344726   \n",
       "2           0.106043      0.093474      0.067378     58.936774     36.344726   \n",
       "3           0.106043      0.093474      0.067378     58.936774     36.344726   \n",
       "4           0.106043      0.093474      0.067378     58.936774     36.344726   \n",
       "...              ...           ...           ...           ...           ...   \n",
       "192997      0.165962      0.086905      0.000000     44.266930      0.000000   \n",
       "192998      0.165962      0.086905      0.000000     44.266930      0.000000   \n",
       "192999      0.165962      0.086905      0.000000     44.266930      0.000000   \n",
       "193000      0.165962      0.086905      0.000000     44.266930      0.000000   \n",
       "193001      0.165962      0.086905      0.000000     44.266930      0.000000   \n",
       "\n",
       "        price_p3_fix  churn  \n",
       "0            8.33426      0  \n",
       "1            8.33426      0  \n",
       "2            8.33426      0  \n",
       "3            8.33426      0  \n",
       "4            8.33426      0  \n",
       "...              ...    ...  \n",
       "192997       0.00000      0  \n",
       "192998       0.00000      0  \n",
       "192999       0.00000      0  \n",
       "193000       0.00000      0  \n",
       "193001       0.00000      0  \n",
       "\n",
       "[193002 rows x 38 columns]"
      ]
     },
     "execution_count": 24,
     "metadata": {},
     "output_type": "execute_result"
    }
   ],
   "source": [
    "df"
   ]
  },
  {
   "cell_type": "code",
   "execution_count": 25,
   "metadata": {},
   "outputs": [],
   "source": [
    "df.to_csv('../Data/cleaned_data.csv')"
   ]
  }
 ],
 "metadata": {
  "kernelspec": {
   "display_name": "Python 3",
   "language": "python",
   "name": "python3"
  },
  "language_info": {
   "codemirror_mode": {
    "name": "ipython",
    "version": 3
   },
   "file_extension": ".py",
   "mimetype": "text/x-python",
   "name": "python",
   "nbconvert_exporter": "python",
   "pygments_lexer": "ipython3",
   "version": "3.7.6"
  }
 },
 "nbformat": 4,
 "nbformat_minor": 4
}
