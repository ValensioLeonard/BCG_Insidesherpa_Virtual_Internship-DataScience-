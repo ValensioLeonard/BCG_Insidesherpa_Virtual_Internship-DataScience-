{
 "cells": [
  {
   "cell_type": "markdown",
   "metadata": {},
   "source": [
    "# Evaluation Process"
   ]
  },
  {
   "cell_type": "markdown",
   "metadata": {},
   "source": [
    "### In this document, we will discuss the use of the model that has just been built and interpret the results for the business."
   ]
  },
  {
   "cell_type": "code",
   "execution_count": 1,
   "metadata": {},
   "outputs": [],
   "source": [
    "import pandas as pd\n",
    "import joblib\n",
    "import numpy as np\n",
    "import matplotlib.pyplot as plt\n",
    "import seaborn as sns\n",
    "from matplotlib.lines import Line2D\n",
    "from matplotlib.patches import Patch"
   ]
  },
  {
   "cell_type": "code",
   "execution_count": 2,
   "metadata": {},
   "outputs": [
    {
     "data": {
      "text/html": [
       "<div>\n",
       "<style scoped>\n",
       "    .dataframe tbody tr th:only-of-type {\n",
       "        vertical-align: middle;\n",
       "    }\n",
       "\n",
       "    .dataframe tbody tr th {\n",
       "        vertical-align: top;\n",
       "    }\n",
       "\n",
       "    .dataframe thead th {\n",
       "        text-align: right;\n",
       "    }\n",
       "</style>\n",
       "<table border=\"1\" class=\"dataframe\">\n",
       "  <thead>\n",
       "    <tr style=\"text-align: right;\">\n",
       "      <th></th>\n",
       "      <th>cons_12m</th>\n",
       "      <th>cons_gas_12m</th>\n",
       "      <th>cons_last_month</th>\n",
       "      <th>forecast_base_bill_ele</th>\n",
       "      <th>forecast_cons</th>\n",
       "      <th>forecast_cons_12m</th>\n",
       "      <th>forecast_cons_year</th>\n",
       "      <th>forecast_discount_energy</th>\n",
       "      <th>forecast_meter_rent_12m</th>\n",
       "      <th>forecast_price_energy_p1</th>\n",
       "      <th>...</th>\n",
       "      <th>date_renewal_2015.0</th>\n",
       "      <th>has_gas_f</th>\n",
       "      <th>has_gas_t</th>\n",
       "      <th>origin_up_Miss</th>\n",
       "      <th>origin_up_ewxe</th>\n",
       "      <th>origin_up_kamk</th>\n",
       "      <th>origin_up_ldks</th>\n",
       "      <th>origin_up_lxid</th>\n",
       "      <th>origin_up_usap</th>\n",
       "      <th>price_date_2015.0</th>\n",
       "    </tr>\n",
       "  </thead>\n",
       "  <tbody>\n",
       "    <tr>\n",
       "      <th>0</th>\n",
       "      <td>4.310267</td>\n",
       "      <td>0.0</td>\n",
       "      <td>4.001128</td>\n",
       "      <td>335.807483</td>\n",
       "      <td>206.800605</td>\n",
       "      <td>3.179547</td>\n",
       "      <td>2.932604</td>\n",
       "      <td>0.0</td>\n",
       "      <td>62.642961</td>\n",
       "      <td>0.095919</td>\n",
       "      <td>...</td>\n",
       "      <td>1</td>\n",
       "      <td>1</td>\n",
       "      <td>0</td>\n",
       "      <td>0</td>\n",
       "      <td>0</td>\n",
       "      <td>0</td>\n",
       "      <td>1</td>\n",
       "      <td>0</td>\n",
       "      <td>0</td>\n",
       "      <td>1</td>\n",
       "    </tr>\n",
       "    <tr>\n",
       "      <th>1</th>\n",
       "      <td>4.310267</td>\n",
       "      <td>0.0</td>\n",
       "      <td>4.001128</td>\n",
       "      <td>335.807483</td>\n",
       "      <td>206.800605</td>\n",
       "      <td>3.179547</td>\n",
       "      <td>2.932604</td>\n",
       "      <td>0.0</td>\n",
       "      <td>62.642961</td>\n",
       "      <td>0.095919</td>\n",
       "      <td>...</td>\n",
       "      <td>1</td>\n",
       "      <td>1</td>\n",
       "      <td>0</td>\n",
       "      <td>0</td>\n",
       "      <td>0</td>\n",
       "      <td>0</td>\n",
       "      <td>1</td>\n",
       "      <td>0</td>\n",
       "      <td>0</td>\n",
       "      <td>1</td>\n",
       "    </tr>\n",
       "    <tr>\n",
       "      <th>2</th>\n",
       "      <td>4.310267</td>\n",
       "      <td>0.0</td>\n",
       "      <td>4.001128</td>\n",
       "      <td>335.807483</td>\n",
       "      <td>206.800605</td>\n",
       "      <td>3.179547</td>\n",
       "      <td>2.932604</td>\n",
       "      <td>0.0</td>\n",
       "      <td>62.642961</td>\n",
       "      <td>0.095919</td>\n",
       "      <td>...</td>\n",
       "      <td>1</td>\n",
       "      <td>1</td>\n",
       "      <td>0</td>\n",
       "      <td>0</td>\n",
       "      <td>0</td>\n",
       "      <td>0</td>\n",
       "      <td>1</td>\n",
       "      <td>0</td>\n",
       "      <td>0</td>\n",
       "      <td>1</td>\n",
       "    </tr>\n",
       "    <tr>\n",
       "      <th>3</th>\n",
       "      <td>4.310267</td>\n",
       "      <td>0.0</td>\n",
       "      <td>4.001128</td>\n",
       "      <td>335.807483</td>\n",
       "      <td>206.800605</td>\n",
       "      <td>3.179547</td>\n",
       "      <td>2.932604</td>\n",
       "      <td>0.0</td>\n",
       "      <td>62.642961</td>\n",
       "      <td>0.095919</td>\n",
       "      <td>...</td>\n",
       "      <td>1</td>\n",
       "      <td>1</td>\n",
       "      <td>0</td>\n",
       "      <td>0</td>\n",
       "      <td>0</td>\n",
       "      <td>0</td>\n",
       "      <td>1</td>\n",
       "      <td>0</td>\n",
       "      <td>0</td>\n",
       "      <td>1</td>\n",
       "    </tr>\n",
       "  </tbody>\n",
       "</table>\n",
       "<p>4 rows × 487 columns</p>\n",
       "</div>"
      ],
      "text/plain": [
       "   cons_12m  cons_gas_12m  cons_last_month  forecast_base_bill_ele  \\\n",
       "0  4.310267           0.0         4.001128              335.807483   \n",
       "1  4.310267           0.0         4.001128              335.807483   \n",
       "2  4.310267           0.0         4.001128              335.807483   \n",
       "3  4.310267           0.0         4.001128              335.807483   \n",
       "\n",
       "   forecast_cons  forecast_cons_12m  forecast_cons_year  \\\n",
       "0     206.800605           3.179547            2.932604   \n",
       "1     206.800605           3.179547            2.932604   \n",
       "2     206.800605           3.179547            2.932604   \n",
       "3     206.800605           3.179547            2.932604   \n",
       "\n",
       "   forecast_discount_energy  forecast_meter_rent_12m  \\\n",
       "0                       0.0                62.642961   \n",
       "1                       0.0                62.642961   \n",
       "2                       0.0                62.642961   \n",
       "3                       0.0                62.642961   \n",
       "\n",
       "   forecast_price_energy_p1  ...  date_renewal_2015.0  has_gas_f  has_gas_t  \\\n",
       "0                  0.095919  ...                    1          1          0   \n",
       "1                  0.095919  ...                    1          1          0   \n",
       "2                  0.095919  ...                    1          1          0   \n",
       "3                  0.095919  ...                    1          1          0   \n",
       "\n",
       "   origin_up_Miss  origin_up_ewxe  origin_up_kamk  origin_up_ldks  \\\n",
       "0               0               0               0               1   \n",
       "1               0               0               0               1   \n",
       "2               0               0               0               1   \n",
       "3               0               0               0               1   \n",
       "\n",
       "   origin_up_lxid  origin_up_usap  price_date_2015.0  \n",
       "0               0               0                  1  \n",
       "1               0               0                  1  \n",
       "2               0               0                  1  \n",
       "3               0               0                  1  \n",
       "\n",
       "[4 rows x 487 columns]"
      ]
     },
     "execution_count": 2,
     "metadata": {},
     "output_type": "execute_result"
    }
   ],
   "source": [
    "df = pd.read_csv('../Data/data_ready.csv')\n",
    "df.drop(df.columns[0], axis = 1, inplace = True)\n",
    "df.head(4)"
   ]
  },
  {
   "cell_type": "code",
   "execution_count": 3,
   "metadata": {},
   "outputs": [],
   "source": [
    "# Load Model\n",
    "\n",
    "filename = './random_forest_classifier.joblib.pkl'\n",
    "model_ = joblib.load(filename)"
   ]
  },
  {
   "cell_type": "code",
   "execution_count": 4,
   "metadata": {},
   "outputs": [],
   "source": [
    "df['predictions'] = model_.predict(df.drop('churn', axis = 1))\n",
    "df['predictions_prob'] = model_.predict_proba(df.drop(['churn', 'predictions'], axis = 1))[:, 1]"
   ]
  },
  {
   "cell_type": "code",
   "execution_count": 5,
   "metadata": {},
   "outputs": [],
   "source": [
    "predictions = df[['churn', 'predictions', 'predictions_prob']]"
   ]
  },
  {
   "cell_type": "markdown",
   "metadata": {},
   "source": [
    "## Final Data Showcase"
   ]
  },
  {
   "cell_type": "code",
   "execution_count": 6,
   "metadata": {},
   "outputs": [],
   "source": [
    "df = pd.read_csv('../Data/cleaned_data.csv')\n",
    "df.drop(df.columns[0], axis = 1, inplace = True)"
   ]
  },
  {
   "cell_type": "code",
   "execution_count": 7,
   "metadata": {},
   "outputs": [],
   "source": [
    "df = df.join(predictions.drop('churn', axis = 1))\n",
    "df.to_csv('../Data/final_data.csv')"
   ]
  },
  {
   "cell_type": "markdown",
   "metadata": {},
   "source": [
    "#### This is the final data that will be used for the evaluation process. It include the original information before feature engineering and predictions results from the Random Forest Model"
   ]
  },
  {
   "cell_type": "markdown",
   "metadata": {},
   "source": []
  },
  {
   "cell_type": "markdown",
   "metadata": {},
   "source": [
    "# Evaluation on Discount Policy"
   ]
  },
  {
   "cell_type": "markdown",
   "metadata": {},
   "source": [
    "We will now evaluate whether giving a certain amount of discount will increase the company's profability. \n",
    "\n",
    "There are several assumption needed for this analysis that will be mentioned to prevent bias judgement.\n",
    "\n",
    "1. Since we already have a predictions probability on whether a certain customer will churn or not, we will choose a cutoff point to handle customer with predictions probability to churn bigger than our cutoff to receive discount policy.\n",
    "\n",
    "2. After the customer was given the discount, we'll assume that certain customer won't churn, which is sometimes not the case.\n",
    "\n",
    "3. To get the revenue received by the company, we calculate the energy consumption with the price added with the meter rent. The calculation will be using the forecasted value for 12 months. (Note: Since we don't know when will the customer churn during the year, we will use the average revenues lost based on the period of time between 1 January 2016 and the start of March 2016, with 100% lost revenue if customer churned from January and 83.9% lost if the customer churned at the end of February, #guided by the BCG Inside Sherpa Report)"
   ]
  },
  {
   "cell_type": "markdown",
   "metadata": {},
   "source": [
    "The data used for the final analysis is the final showcase data."
   ]
  },
  {
   "cell_type": "code",
   "execution_count": 8,
   "metadata": {},
   "outputs": [],
   "source": [
    "df = pd.read_csv('../Data/final_data.csv')\n",
    "df.drop(df.columns[0], axis = 1, inplace = True)"
   ]
  },
  {
   "cell_type": "markdown",
   "metadata": {},
   "source": [
    "### 1. Produce Baseline Revenue for Further Benchmarking Process"
   ]
  },
  {
   "cell_type": "markdown",
   "metadata": {},
   "source": [
    "#### To calculate revenue, we need the forecasted consumption for 12 months times the price for the first period added with the forecasted meter rent for 12 months. This will be the baseline revenues for PowerCo if there are no customer that ended up churning during the time period."
   ]
  },
  {
   "cell_type": "code",
   "execution_count": 9,
   "metadata": {},
   "outputs": [
    {
     "name": "stdout",
     "output_type": "stream",
     "text": [
      "The baseline revenues before accounting for people churning is $71.69 millions\n"
     ]
    }
   ],
   "source": [
    "df['baseline_revenue'] = df['forecast_cons_12m'] * df['forecast_price_energy_p1'] + df['forecast_meter_rent_12m']\n",
    "\n",
    "print('The baseline revenues before accounting' \\\n",
    "      + ' for people churning is ${:.2f} millions'.format(df['baseline_revenue'].sum() / 10**6))"
   ]
  },
  {
   "cell_type": "markdown",
   "metadata": {},
   "source": [
    "### 2. Calculate Baseline Revenue After churn"
   ]
  },
  {
   "cell_type": "markdown",
   "metadata": {},
   "source": [
    "#### Since people that churned meant that the revenue from that specific customer will be lost, We should calculate the estimate revenues that PowerCo got after accounting for people churning."
   ]
  },
  {
   "cell_type": "code",
   "execution_count": 10,
   "metadata": {},
   "outputs": [],
   "source": [
    "df['baseline_revenue_after_churn'] = df['baseline_revenue'] * (1 - 0.919 * df['churn'])"
   ]
  },
  {
   "cell_type": "code",
   "execution_count": 11,
   "metadata": {},
   "outputs": [
    {
     "name": "stdout",
     "output_type": "stream",
     "text": [
      "The baseline revenues after accounting for people churning is $64.85 millions\n"
     ]
    }
   ],
   "source": [
    "print('The baseline revenues after accounting' \\\n",
    "      + ' for people churning is ${:.2f} millions'.format(df['baseline_revenue_after_churn'].sum() / 10**6))"
   ]
  },
  {
   "cell_type": "markdown",
   "metadata": {},
   "source": [
    "### 3. Calculate the difference for the revenue after the discount has been given"
   ]
  },
  {
   "cell_type": "markdown",
   "metadata": {},
   "source": [
    "#### First, create another data that gathers information about  revenue generated from the customer, we can use the baseline revenue after churning for this part."
   ]
  },
  {
   "cell_type": "markdown",
   "metadata": {},
   "source": [
    "#### Given a prediction probabilites higher than a cutoff point, PowerCo will give a discount policy reducing the revenues that is generated from that specific customer, but preventing them from churning. Then we can calculate the total revenues and compare it to the revenue if discount policy isn't given."
   ]
  },
  {
   "cell_type": "code",
   "execution_count": 12,
   "metadata": {},
   "outputs": [
    {
     "name": "stdout",
     "output_type": "stream",
     "text": [
      "Difference between revenues before and after giving discount to consumer is $4.94 millions\n"
     ]
    }
   ],
   "source": [
    "def diff_revenue(data = df, cutoff = 0.6, disc = 0.25):\n",
    "    \n",
    "    df['disc_rev'] = df['baseline_revenue_after_churn']\n",
    "    \n",
    "    # locate user with churn probabilities higher than cutoff.\n",
    "    df.loc[df['predictions_prob'] >= cutoff, 'disc_rev'] = df['baseline_revenue'] * (1- disc)\n",
    "    \n",
    "    # Return the difference before and after discount is imposed\n",
    "    return df['disc_rev'].sum() - df['baseline_revenue_after_churn'].sum()\n",
    "\n",
    "print('Difference between revenues before and after giving discount to consumer' \\\n",
    "      + ' is ${:.2f} millions'.format(diff_revenue()/10**6))"
   ]
  },
  {
   "cell_type": "markdown",
   "metadata": {},
   "source": [
    "### Since cutoff can affect this analysis, we can plot a graph that showed the relationship between revenue differences and cutoff points."
   ]
  },
  {
   "cell_type": "code",
   "execution_count": 13,
   "metadata": {},
   "outputs": [],
   "source": [
    "revenue_gain = pd.DataFrame([diff_revenue(df, cutoff = x) for x in np.arange(0, 1, 0.01)], \n",
    "                            index = np.arange(0, 1, 0.01), columns = ['Revenue Gain']) / 10**6\n",
    "revenue_gain['Different Compared to Previous Cutoff'] = 0\n",
    "for index in range(1, len(revenue_gain)):\n",
    "    rev_normalized = revenue_gain['Revenue Gain'] + np.min(revenue_gain['Revenue Gain'])\n",
    "    increase = 100*((revenue_gain.iloc[index, 0] - revenue_gain.iloc[index-1, 0])/revenue_gain.iloc[index, 0]) \n",
    "    revenue_gain.iloc[index, 1] = increase"
   ]
  },
  {
   "cell_type": "code",
   "execution_count": 14,
   "metadata": {},
   "outputs": [
    {
     "name": "stdout",
     "output_type": "stream",
     "text": [
      "The best cutoff point with the highest reward is 0.25\n"
     ]
    },
    {
     "data": {
      "image/png": "[encoded data removed]",
      "text/plain": [
       "<Figure size 432x288 with 1 Axes>"
      ]
     },
     "metadata": {
      "needs_background": "light"
     },
     "output_type": "display_data"
    }
   ],
   "source": [
    "def plot_rev_increase(revenue_gain):\n",
    "    sns.lineplot(x = revenue_gain.index, y = revenue_gain['Revenue Gain'])\n",
    "    plt.scatter(revenue_gain['Revenue Gain'].idxmax(), np.max(revenue_gain['Revenue Gain']), s= 50, color = 'red')\n",
    "    plt.ylim(-.5, np.max(revenue_gain['Revenue Gain']) + 0.5)\n",
    "    plt.ylabel('Million dollars')\n",
    "    plt.xlabel('Cutoff Points')\n",
    "    plt.hlines(0, 0, 1, linestyles = 'dashed')\n",
    "\n",
    "    plt.annotate(text = '{:.2f} Millions'.format(np.max(revenue_gain['Revenue Gain'])), \n",
    "                 xy = (revenue_gain['Revenue Gain'].idxmax(), \n",
    "                 np.max(revenue_gain['Revenue Gain']) - 0.4))\n",
    "\n",
    "    plt.annotate(text = 'breakeven line',xy = (0.75, 0.3))\n",
    "\n",
    "    plt.title('Revenue Gained Relative to\\nThe Cutoff Points for Giving Discounts.');\n",
    "\n",
    "    print('The best cutoff point with the highest reward is {}'.format(revenue_gain['Revenue Gain'].idxmax()))\n",
    "plot_rev_increase(revenue_gain)"
   ]
  },
  {
   "cell_type": "code",
   "execution_count": 15,
   "metadata": {},
   "outputs": [
    {
     "data": {
      "image/png": "[encoded data removed]",
      "text/plain": [
       "<Figure size 432x288 with 1 Axes>"
      ]
     },
     "metadata": {
      "needs_background": "light"
     },
     "output_type": "display_data"
    }
   ],
   "source": [
    "def cutoff_revenue_delta_plot(revenue_gain, thres):\n",
    "    sns.lineplot(x = revenue_gain.index, y = revenue_gain['Different Compared to Previous Cutoff'], )\n",
    "    \n",
    "    \n",
    "    indx = np.array(revenue_gain[revenue_gain['Different Compared to Previous Cutoff'] <= thres].index)\n",
    "    minid = np.min(indx[1:])\n",
    "    maxid = np.max(indx)\n",
    "   \n",
    "    \n",
    "    plt.fill_between(x = revenue_gain.index, y1= np.min(revenue_gain.iloc[:, 1]), y2 = np.max(revenue_gain.iloc[:, 1]),  \n",
    "                    where = (revenue_gain.index >= minid) & (revenue_gain.index <= maxid),\n",
    "                    facecolor='green', alpha=0.5)\n",
    "    \n",
    "    plt.fill_between(x = revenue_gain.index, y1= np.min(revenue_gain.iloc[:, 1]), y2 = np.max(revenue_gain.iloc[:, 1]),  \n",
    "                    where = revenue_gain['Different Compared to Previous Cutoff'] < 0,\n",
    "                    facecolor='red', alpha=0.65)\n",
    "\n",
    "    plt.title('Revenue Increase(%) Relative to\\nThe Cutoff Points for Giving Discounts.')\n",
    "    plt.xlabel('Cutoff Points')\n",
    "    \n",
    "    plt.ylabel('Revenue Increase(%)')\n",
    "    \n",
    "    \n",
    "    legend_elements = [Patch(facecolor='green', edgecolor='green', alpha = 0.45,\n",
    "                             label='Below {}%'.format(thres*100)),\n",
    "                       Patch(facecolor='red', edgecolor='r', alpha = 0.65,\n",
    "                             label='Negative Percentages')]\n",
    "    \n",
    "    plt.legend(handles=legend_elements, loc='lower left')\n",
    "    plt.show()\n",
    "    \n",
    "cutoff_revenue_delta_plot(revenue_gain.iloc[3:, :], 0.01)"
   ]
  },
  {
   "cell_type": "markdown",
   "metadata": {},
   "source": [
    "### As we can see from both graph presented,  selecting cutoff can affect the total amount of revenues increase that we get from this model, We will choosef 0.32 as the cutoff as it gave the most profitable result from the other cutoff points.\n",
    "\n",
    "#### Note that this prediction is a very optimistic estimate. The deployment on real world case can yield various results."
   ]
  },
  {
   "cell_type": "markdown",
   "metadata": {},
   "source": [
    "# Conclusion"
   ]
  },
  {
   "cell_type": "markdown",
   "metadata": {},
   "source": [
    "## Based on the analysis that we did, we can conclude that imposing discount for customer that have the probability to churn higher than 0.32 can increase our total revenues by an estimate of 4.97 Million Dollars."
   ]
  },
  {
   "cell_type": "markdown",
   "metadata": {},
   "source": [
    "### "
   ]
  }
 ],
 "metadata": {
  "kernelspec": {
   "display_name": "Python 3",
   "language": "python",
   "name": "python3"
  },
  "language_info": {
   "codemirror_mode": {
    "name": "ipython",
    "version": 3
   },
   "file_extension": ".py",
   "mimetype": "text/x-python",
   "name": "python",
   "nbconvert_exporter": "python",
   "pygments_lexer": "ipython3",
   "version": "3.7.6"
  }
 },
 "nbformat": 4,
 "nbformat_minor": 4
}
