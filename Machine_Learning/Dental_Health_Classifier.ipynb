{
  "nbformat": 4,
  "nbformat_minor": 0,
  "metadata": {
    "colab": {
      "name": "Dental Health Classifier.ipynb",
      "provenance": [],
      "collapsed_sections": [],
      "include_colab_link": true
    },
    "kernelspec": {
      "name": "python3",
      "display_name": "Python 3"
    },
    "language_info": {
      "name": "python"
    }
  },
  "cells": [
    {
      "cell_type": "markdown",
      "metadata": {
        "id": "view-in-github",
        "colab_type": "text"
      },
      "source": [
        "<a href=\"https://colab.research.google.com/github/ValensioLeonard/BCG_Insidesherpa_Virtual_Internship-DataScience-/blob/main/Machine_Learning/Dental_Health_Classifier.ipynb\" target=\"_parent\"><img src=\"https://colab.research.google.com/assets/colab-badge.svg\" alt=\"Open In Colab\"/></a>"
      ]
    },
    {
      "cell_type": "markdown",
      "metadata": {
        "id": "8uX_cvQrc-nK"
      },
      "source": [
        "# **Dental Health Classifier, Bangkit Final Capstone**"
      ]
    },
    {
      "cell_type": "markdown",
      "metadata": {
        "id": "OCooCcGwknkx"
      },
      "source": [
        "<img src=https://raw.githubusercontent.com/ValensioLeonard/Bangkit_Final_Capstone_Vivere/main/Machine_Learning/image_resource/bangkit%20background.png class=\"center\">"
      ]
    },
    {
      "cell_type": "markdown",
      "metadata": {
        "id": "ZggiEZ9Defrf"
      },
      "source": [
        "In this notebook, a model is developed to classify whether a teeth is considered healthy or unhealthy. The teeth is considered unhealthy if the teeth have one or more caries. This project is part of [Bangkit 2021](https://grow.google/intl/id_id/bangkit/) Final Capstone Project and a property of team Vivere."
      ]
    },
    {
      "cell_type": "code",
      "metadata": {
        "id": "JyaDsFxxFpBp"
      },
      "source": [
        "# # Run this if tensorflow is not on version 2.4.1\n",
        "# !pip install tensorflow==2.4.1"
      ],
      "execution_count": null,
      "outputs": []
    },
    {
      "cell_type": "code",
      "metadata": {
        "id": "4u9AQ-gOc706"
      },
      "source": [
        "import numpy as np\n",
        "import os\n",
        "import tensorflow as tf\n",
        "import tensorflow_hub as hub\n",
        "import matplotlib.pyplot as plt\n",
        "from tqdm import tqdm\n",
        "from shutil import copyfile\n",
        "import re\n",
        "from shutil import move\n",
        "\n",
        "\n",
        "from tensorflow.keras.preprocessing.image import ImageDataGenerator"
      ],
      "execution_count": null,
      "outputs": []
    },
    {
      "cell_type": "code",
      "metadata": {
        "colab": {
          "base_uri": "https://localhost:8080/"
        },
        "id": "323rnZTXGZS8",
        "outputId": "2f4a75e6-24c6-4e25-a354-cd58b905ffa1"
      },
      "source": [
        "# Ensure that the tensorflow version is 2.4.X\n",
        "print(tf.__version__)"
      ],
      "execution_count": null,
      "outputs": [
        {
          "output_type": "stream",
          "text": [
            "2.4.1\n"
          ],
          "name": "stdout"
        }
      ]
    },
    {
      "cell_type": "code",
      "metadata": {
        "id": "dAiOQUXCa7mE"
      },
      "source": [
        "# !pip3 freeze > requirements.txt "
      ],
      "execution_count": null,
      "outputs": []
    },
    {
      "cell_type": "code",
      "metadata": {
        "colab": {
          "base_uri": "https://localhost:8080/"
        },
        "id": "sHK0HKPFdKTF",
        "outputId": "3e436b8e-94f4-4a0c-90cc-5b9f4695e6d7"
      },
      "source": [
        "from google.colab import drive\n",
        "drive.mount('/content/gdrive')"
      ],
      "execution_count": null,
      "outputs": [
        {
          "output_type": "stream",
          "text": [
            "Mounted at /content/gdrive\n"
          ],
          "name": "stdout"
        }
      ]
    },
    {
      "cell_type": "code",
      "metadata": {
        "colab": {
          "base_uri": "https://localhost:8080/"
        },
        "id": "ICvjgU88da3q",
        "outputId": "e87d6bf2-33d0-4f18-8815-359be8328e13"
      },
      "source": [
        "%cd '/content/gdrive/MyDrive/Bangkit Final Project Files/'"
      ],
      "execution_count": null,
      "outputs": [
        {
          "output_type": "stream",
          "text": [
            "/content/gdrive/MyDrive/Bangkit Final Project Files\n"
          ],
          "name": "stdout"
        }
      ]
    },
    {
      "cell_type": "markdown",
      "metadata": {
        "id": "rQrKES5afehj"
      },
      "source": [
        "## Generate Dataset Folder"
      ]
    },
    {
      "cell_type": "markdown",
      "metadata": {
        "id": "scPZyMG8fFoa"
      },
      "source": [
        "This section is used for data handling, the temporary directory is used to create a copy of the original dataset to prevent data changes in the original dataset."
      ]
    },
    {
      "cell_type": "code",
      "metadata": {
        "id": "QyINWCJZfYPd"
      },
      "source": [
        "# # Define our directories and files\n",
        "# train_dir = 'Dataset/Training/'\n",
        "# validation_dir = 'Dataset/Validation/'"
      ],
      "execution_count": null,
      "outputs": []
    },
    {
      "cell_type": "code",
      "metadata": {
        "id": "vqEC66A2gWh7"
      },
      "source": [
        "# # Use Temporary dir\n",
        "\n",
        "# # Populate Temporary Directory\n",
        "# def copy_file(source, destination):\n",
        "#   list_to_copy = os.listdir(source)\n",
        "#   for member in tqdm(list_to_copy):\n",
        "#     source_file = os.path.join(source, member)\n",
        "#     dest_file = os.path.join(destination, member)\n",
        "#     copyfile(source_file, dest_file)\n",
        "\n",
        "# copy_file(train_dir, 'Dataset/Dataset2/Training')\n",
        "# copy_file(validation_dir, 'Dataset/Dataset2/Validation')"
      ],
      "execution_count": null,
      "outputs": []
    },
    {
      "cell_type": "code",
      "metadata": {
        "id": "OCVqP3pjmiFq"
      },
      "source": [
        "# Update Training and Validation Dir\n",
        "\n",
        "train_dir = '../Dataset2/Training'\n",
        "validation_dir = '../Dataset2/Validation'"
      ],
      "execution_count": null,
      "outputs": []
    },
    {
      "cell_type": "markdown",
      "metadata": {
        "id": "HeWY9K81pIGT"
      },
      "source": [
        "## Move file to appropriate folder"
      ]
    },
    {
      "cell_type": "markdown",
      "metadata": {
        "id": "KqkEHKSNfVW6"
      },
      "source": [
        "In this project, our team used image generator for automatically labelling data and for uploading it to the model. Therefore, this section is used to move the file according to the image generator path example as seen below."
      ]
    },
    {
      "cell_type": "markdown",
      "metadata": {
        "id": "dYQREXIyhQO3"
      },
      "source": [
        "<img src=https://raw.githubusercontent.com/ValensioLeonard/Bangkit_Final_Capstone_Vivere/main/Machine_Learning/image_resource/path_example.png width=\"800\">\n"
      ]
    },
    {
      "cell_type": "code",
      "metadata": {
        "id": "F8kCMPNImbTx"
      },
      "source": [
        "# def move_to_class(dir):\n",
        "#   files = os.listdir(dir)\n",
        "#   for file in files:\n",
        "#     source_file = os.path.join(dir, file)\n",
        "#     try:\n",
        "#       if re.findall(r'^(.+)\\.[0-9]+', file)[0] == 'no':\n",
        "#         dest_file = os.path.join(dir, 'Healthy' ,file)\n",
        "#         move(source_file, dest_file)\n",
        "#       else:\n",
        "#         dest_file = os.path.join(dir, 'Caries' ,file)\n",
        "#         move(source_file, dest_file)\n",
        "#     except:\n",
        "#       print('Skipped: ' + file)\n",
        "\n",
        "# move_to_class(train_dir)\n",
        "# move_to_class(validation_dir)"
      ],
      "execution_count": null,
      "outputs": []
    },
    {
      "cell_type": "markdown",
      "metadata": {
        "id": "ieeykfX3pLvY"
      },
      "source": [
        "## Convert file format to PNG"
      ]
    },
    {
      "cell_type": "markdown",
      "metadata": {
        "id": "GYajaTmXkZE8"
      },
      "source": [
        "Since the image used for the modelling have different formats, this section is used to convert all of the images into .png format."
      ]
    },
    {
      "cell_type": "code",
      "metadata": {
        "id": "LRIE6CjUpLMQ"
      },
      "source": [
        "# from PIL import Image\n",
        "# import os\n",
        "\n",
        "# def convert_to_png(dir, verbose = False, remove_former = False):\n",
        "#   for file in os.listdir(dir):\n",
        "#     if file.endswith(\".png\") == False:\n",
        "#         im = Image.open(os.path.join(dir, file))\n",
        "#         name = re.findall(r'(.+)\\.[\\w+]+', file)[0] + '.png'        \n",
        "#         rgb_im = im.convert('RGB')\n",
        "#         rgb_im.save(os.path.join(dir, name))\n",
        "\n",
        "#         if remove_former:\n",
        "#           os.remove(os.path.join(dir, file))\n",
        "\n",
        "#         if verbose:\n",
        "#           print('converted ' + file + ' to ' + name)\n",
        "#         continue\n",
        "#     else:\n",
        "#         continue"
      ],
      "execution_count": null,
      "outputs": []
    },
    {
      "cell_type": "code",
      "metadata": {
        "id": "xHceEDq2rheW"
      },
      "source": [
        "# convert_to_png(os.path.join(train_dir, 'Healthy'), verbose = True, remove_former = True)\n",
        "# convert_to_png(os.path.join(train_dir, 'Caries'),  remove_former = True)\n",
        "# convert_to_png(os.path.join(validation_dir, 'Healthy'),  remove_former = True)\n",
        "# convert_to_png(os.path.join(validation_dir, 'Caries'),  remove_former = True)"
      ],
      "execution_count": null,
      "outputs": []
    },
    {
      "cell_type": "markdown",
      "metadata": {
        "id": "W4ASjY4VfZGY"
      },
      "source": [
        "## Initiate Image Generator"
      ]
    },
    {
      "cell_type": "markdown",
      "metadata": {
        "id": "drQtLK0MklCk"
      },
      "source": [
        "In this section, we can list all of the files within classes inside the training and validation folder."
      ]
    },
    {
      "cell_type": "code",
      "metadata": {
        "id": "7u5hSBWHeU3j",
        "colab": {
          "base_uri": "https://localhost:8080/"
        },
        "outputId": "9f61bc7e-6abc-4019-a051-ef8b97726d9c"
      },
      "source": [
        "train_heathy_dir = os.path.join(train_dir, 'Healthy')\n",
        "train_caries_dir = os.path.join(train_dir, 'Caries')\n",
        "validation_healthy_dir = os.path.join(validation_dir, 'Healthy')\n",
        "validation_caries_dir = os.path.join(validation_dir, 'Caries')\n",
        "\n",
        "train_heathy_fnames = os.listdir(train_heathy_dir)\n",
        "train_caries_fnames = os.listdir(train_caries_dir)\n",
        "validation_healthy_fnames = os.listdir(validation_healthy_dir)\n",
        "validation_caries_fnames = os.listdir(validation_caries_dir)\n",
        "\n",
        "print(len(train_heathy_fnames))\n",
        "print(len(train_caries_fnames))\n",
        "print(len(validation_healthy_fnames))\n",
        "print(len(validation_caries_fnames))"
      ],
      "execution_count": null,
      "outputs": [
        {
          "output_type": "stream",
          "text": [
            "56\n",
            "57\n",
            "24\n",
            "24\n"
          ],
          "name": "stdout"
        }
      ]
    },
    {
      "cell_type": "markdown",
      "metadata": {
        "id": "NNU5m7D3mmTo"
      },
      "source": [
        "The part below is an implementation of data-augmentation. This is used to help our model learn more from our limited data. For more information on data augmentation, visit: \n",
        "\n",
        "https://www.tensorflow.org/tutorials/images/data_augmentation"
      ]
    },
    {
      "cell_type": "code",
      "metadata": {
        "id": "BqL7rnTKeT1J",
        "colab": {
          "base_uri": "https://localhost:8080/"
        },
        "outputId": "45048acd-ffa3-489c-ec3f-cd158c72191a"
      },
      "source": [
        "# initializing ImageDataGenerator for training dataset\n",
        "train_datagen = tf.keras.preprocessing.image.ImageDataGenerator(rescale = 1./255.,\n",
        "                                   zoom_range = 0.2,\n",
        "                    9               shear_range = 0.2,\n",
        "                                   rotation_range = 40,\n",
        "                                   width_shift_range = 0.2,\n",
        "                                   height_shift_range = 0.2,\n",
        "                                   horizontal_flip = True)\n",
        "\n",
        "# Validation data should be loaded as original without augmentation\n",
        "test_datagen = ImageDataGenerator(rescale = 1./255.)\n",
        "\n",
        "# Point the image generator flow from directory to training directory\n",
        "# Use batch size of 10 images\n",
        "train_generator = train_datagen.flow_from_directory(train_dir,\n",
        "                                                    class_mode = 'binary',\n",
        "                                                    batch_size = 10,\n",
        "                                                    target_size = (224, 224))     \n",
        "\n",
        "# Point the image generator flow from directory to validation directory\n",
        "# Use batch size of 10 images\n",
        "validation_generator =  test_datagen.flow_from_directory(validation_dir,\n",
        "                                                    class_mode = 'binary',\n",
        "                                                    batch_size = 10,\n",
        "                                                    target_size = (224, 224))\n",
        "\n",
        "# Expected Output:\n",
        "# Found 113 images belonging to 2 classes.\n",
        "# Found 48 images belonging to 2 classes."
      ],
      "execution_count": null,
      "outputs": [
        {
          "output_type": "stream",
          "text": [
            "Found 113 images belonging to 2 classes.\n",
            "Found 48 images belonging to 2 classes.\n"
          ],
          "name": "stdout"
        }
      ]
    },
    {
      "cell_type": "markdown",
      "metadata": {
        "id": "RD2YB-5BBYN8"
      },
      "source": [
        "## Modelling"
      ]
    },
    {
      "cell_type": "markdown",
      "metadata": {
        "id": "WJRnqAZ-4cH5"
      },
      "source": [
        "In this project, we used transfer learning and then fine tune it using the images that we already prepared. The reason why we used transfer learning is because our data is limited in size, thus transfer learning can help the model with the lower level features of the images.\n",
        "\n",
        "For more information, visit: https://www.tensorflow.org/tutorials/images/transfer_learning"
      ]
    },
    {
      "cell_type": "code",
      "metadata": {
        "id": "PA-E2OyhBaJZ"
      },
      "source": [
        "feature_extractor_model = \"https://tfhub.dev/google/tf2-preview/mobilenet_v2/feature_vector/4\""
      ],
      "execution_count": 1,
      "outputs": []
    },
    {
      "cell_type": "code",
      "metadata": {
        "id": "YRFsQLr_BdDG"
      },
      "source": [
        "feature_extractor_layer = hub.KerasLayer(\n",
        "  feature_extractor_model, input_shape = (224, 224, 3), trainable=False)"
      ],
      "execution_count": null,
      "outputs": []
    },
    {
      "cell_type": "code",
      "metadata": {
        "colab": {
          "base_uri": "https://localhost:8080/"
        },
        "id": "qjH5kPHbBhFr",
        "outputId": "715142d8-3b02-41c8-a6e7-45e8a26173a0"
      },
      "source": [
        "model = tf.keras.Sequential([\n",
        "  feature_extractor_layer,\n",
        "  tf.keras.layers.Dense(1, activation ='sigmoid')\n",
        "])\n",
        "\n",
        "model.summary()\n",
        "\n",
        "model.compile(optimizer = 'adam', \n",
        "              loss = 'binary_crossentropy', metrics = ['acc'])"
      ],
      "execution_count": null,
      "outputs": [
        {
          "output_type": "stream",
          "text": [
            "Model: \"sequential\"\n",
            "_________________________________________________________________\n",
            "Layer (type)                 Output Shape              Param #   \n",
            "=================================================================\n",
            "keras_layer (KerasLayer)     (None, 1280)              2257984   \n",
            "_________________________________________________________________\n",
            "dense (Dense)                (None, 1)                 1281      \n",
            "=================================================================\n",
            "Total params: 2,259,265\n",
            "Trainable params: 1,281\n",
            "Non-trainable params: 2,257,984\n",
            "_________________________________________________________________\n"
          ],
          "name": "stdout"
        }
      ]
    },
    {
      "cell_type": "code",
      "metadata": {
        "colab": {
          "base_uri": "https://localhost:8080/"
        },
        "id": "xF3xMR5RCBMq",
        "outputId": "937853dd-958c-4fbb-ce3f-ada83cce3620"
      },
      "source": [
        "history = model.fit_generator(train_generator,\n",
        "                    validation_data = validation_generator,\n",
        "                    verbose = 1,\n",
        "                    epochs = 50)"
      ],
      "execution_count": null,
      "outputs": [
        {
          "output_type": "stream",
          "text": [
            "/usr/local/lib/python3.7/dist-packages/tensorflow/python/keras/engine/training.py:1844: UserWarning: `Model.fit_generator` is deprecated and will be removed in a future version. Please use `Model.fit`, which supports generators.\n",
            "  warnings.warn('`Model.fit_generator` is deprecated and '\n"
          ],
          "name": "stderr"
        },
        {
          "output_type": "stream",
          "text": [
            "Epoch 1/50\n",
            "12/12 [==============================] - 109s 7s/step - loss: 0.8445 - acc: 0.5667 - val_loss: 0.5031 - val_acc: 0.7708\n",
            "Epoch 2/50\n",
            "12/12 [==============================] - 6s 483ms/step - loss: 0.5850 - acc: 0.6538 - val_loss: 0.4260 - val_acc: 0.8125\n",
            "Epoch 3/50\n",
            "12/12 [==============================] - 6s 518ms/step - loss: 0.5370 - acc: 0.6716 - val_loss: 0.3777 - val_acc: 0.8542\n",
            "Epoch 4/50\n",
            "12/12 [==============================] - 6s 487ms/step - loss: 0.4198 - acc: 0.8186 - val_loss: 0.3557 - val_acc: 0.8750\n",
            "Epoch 5/50\n",
            "12/12 [==============================] - 6s 494ms/step - loss: 0.4280 - acc: 0.8494 - val_loss: 0.3256 - val_acc: 0.8542\n",
            "Epoch 6/50\n",
            "12/12 [==============================] - 6s 497ms/step - loss: 0.3091 - acc: 0.8519 - val_loss: 0.3063 - val_acc: 0.8750\n",
            "Epoch 7/50\n",
            "12/12 [==============================] - 6s 494ms/step - loss: 0.2572 - acc: 0.9256 - val_loss: 0.2860 - val_acc: 0.8750\n",
            "Epoch 8/50\n",
            "12/12 [==============================] - 6s 489ms/step - loss: 0.2753 - acc: 0.8832 - val_loss: 0.2730 - val_acc: 0.8958\n",
            "Epoch 9/50\n",
            "12/12 [==============================] - 6s 530ms/step - loss: 0.2525 - acc: 0.9495 - val_loss: 0.2601 - val_acc: 0.8750\n",
            "Epoch 10/50\n",
            "12/12 [==============================] - 6s 494ms/step - loss: 0.2481 - acc: 0.9226 - val_loss: 0.2497 - val_acc: 0.8958\n",
            "Epoch 11/50\n",
            "12/12 [==============================] - 6s 504ms/step - loss: 0.2651 - acc: 0.9094 - val_loss: 0.2406 - val_acc: 0.8958\n",
            "Epoch 12/50\n",
            "12/12 [==============================] - 6s 507ms/step - loss: 0.2651 - acc: 0.9014 - val_loss: 0.2341 - val_acc: 0.9167\n",
            "Epoch 13/50\n",
            "12/12 [==============================] - 6s 506ms/step - loss: 0.2329 - acc: 0.9250 - val_loss: 0.2319 - val_acc: 0.9167\n",
            "Epoch 14/50\n",
            "12/12 [==============================] - 6s 480ms/step - loss: 0.1917 - acc: 0.9383 - val_loss: 0.2227 - val_acc: 0.9167\n",
            "Epoch 15/50\n",
            "12/12 [==============================] - 6s 486ms/step - loss: 0.1837 - acc: 0.9431 - val_loss: 0.2296 - val_acc: 0.9583\n",
            "Epoch 16/50\n",
            "12/12 [==============================] - 6s 483ms/step - loss: 0.1615 - acc: 0.9469 - val_loss: 0.2246 - val_acc: 0.9583\n",
            "Epoch 17/50\n",
            "12/12 [==============================] - 6s 511ms/step - loss: 0.1487 - acc: 0.9771 - val_loss: 0.2277 - val_acc: 0.9583\n",
            "Epoch 18/50\n",
            "12/12 [==============================] - 6s 501ms/step - loss: 0.2346 - acc: 0.9209 - val_loss: 0.2115 - val_acc: 0.9375\n",
            "Epoch 19/50\n",
            "12/12 [==============================] - 6s 474ms/step - loss: 0.2058 - acc: 0.9267 - val_loss: 0.2512 - val_acc: 0.9167\n",
            "Epoch 20/50\n",
            "12/12 [==============================] - 6s 517ms/step - loss: 0.1744 - acc: 0.9730 - val_loss: 0.2072 - val_acc: 0.9167\n",
            "Epoch 21/50\n",
            "12/12 [==============================] - 6s 505ms/step - loss: 0.1281 - acc: 0.9697 - val_loss: 0.2144 - val_acc: 0.9375\n",
            "Epoch 22/50\n",
            "12/12 [==============================] - 6s 471ms/step - loss: 0.1547 - acc: 0.9624 - val_loss: 0.2501 - val_acc: 0.9167\n",
            "Epoch 23/50\n",
            "12/12 [==============================] - 6s 464ms/step - loss: 0.1517 - acc: 0.9664 - val_loss: 0.2203 - val_acc: 0.9375\n",
            "Epoch 24/50\n",
            "12/12 [==============================] - 6s 500ms/step - loss: 0.1427 - acc: 0.9755 - val_loss: 0.1963 - val_acc: 0.9375\n",
            "Epoch 25/50\n",
            "12/12 [==============================] - 6s 486ms/step - loss: 0.1236 - acc: 0.9571 - val_loss: 0.2196 - val_acc: 0.9375\n",
            "Epoch 26/50\n",
            "12/12 [==============================] - 6s 517ms/step - loss: 0.1092 - acc: 0.9675 - val_loss: 0.1952 - val_acc: 0.9375\n",
            "Epoch 27/50\n",
            "12/12 [==============================] - 6s 468ms/step - loss: 0.1415 - acc: 0.9641 - val_loss: 0.1802 - val_acc: 0.9375\n",
            "Epoch 28/50\n",
            "12/12 [==============================] - 6s 491ms/step - loss: 0.1271 - acc: 0.9640 - val_loss: 0.2047 - val_acc: 0.9375\n",
            "Epoch 29/50\n",
            "12/12 [==============================] - 6s 491ms/step - loss: 0.1165 - acc: 0.9814 - val_loss: 0.2002 - val_acc: 0.9375\n",
            "Epoch 30/50\n",
            "12/12 [==============================] - 6s 482ms/step - loss: 0.1206 - acc: 0.9611 - val_loss: 0.1733 - val_acc: 0.9375\n",
            "Epoch 31/50\n",
            "12/12 [==============================] - 6s 496ms/step - loss: 0.1056 - acc: 0.9772 - val_loss: 0.1846 - val_acc: 0.9375\n",
            "Epoch 32/50\n",
            "12/12 [==============================] - 6s 472ms/step - loss: 0.1353 - acc: 0.9671 - val_loss: 0.1851 - val_acc: 0.9375\n",
            "Epoch 33/50\n",
            "12/12 [==============================] - 6s 492ms/step - loss: 0.0810 - acc: 0.9773 - val_loss: 0.1808 - val_acc: 0.9375\n",
            "Epoch 34/50\n",
            "12/12 [==============================] - 6s 480ms/step - loss: 0.1168 - acc: 0.9751 - val_loss: 0.1722 - val_acc: 0.9375\n",
            "Epoch 35/50\n",
            "12/12 [==============================] - 6s 475ms/step - loss: 0.1280 - acc: 0.9578 - val_loss: 0.1641 - val_acc: 0.9375\n",
            "Epoch 36/50\n",
            "12/12 [==============================] - 6s 485ms/step - loss: 0.0930 - acc: 0.9778 - val_loss: 0.1833 - val_acc: 0.9375\n",
            "Epoch 37/50\n",
            "12/12 [==============================] - 6s 511ms/step - loss: 0.1076 - acc: 0.9763 - val_loss: 0.1782 - val_acc: 0.9375\n",
            "Epoch 38/50\n",
            "12/12 [==============================] - 6s 493ms/step - loss: 0.0891 - acc: 0.9940 - val_loss: 0.1628 - val_acc: 0.9375\n",
            "Epoch 39/50\n",
            "12/12 [==============================] - 6s 480ms/step - loss: 0.0987 - acc: 0.9753 - val_loss: 0.1856 - val_acc: 0.9375\n",
            "Epoch 40/50\n",
            "12/12 [==============================] - 6s 475ms/step - loss: 0.1138 - acc: 0.9717 - val_loss: 0.1681 - val_acc: 0.9375\n",
            "Epoch 41/50\n",
            "12/12 [==============================] - 6s 487ms/step - loss: 0.0811 - acc: 0.9971 - val_loss: 0.1671 - val_acc: 0.9375\n",
            "Epoch 42/50\n",
            "12/12 [==============================] - 6s 500ms/step - loss: 0.0970 - acc: 0.9608 - val_loss: 0.1634 - val_acc: 0.9583\n",
            "Epoch 43/50\n",
            "12/12 [==============================] - 6s 496ms/step - loss: 0.0682 - acc: 0.9844 - val_loss: 0.1559 - val_acc: 0.8958\n",
            "Epoch 44/50\n",
            "12/12 [==============================] - 6s 483ms/step - loss: 0.0925 - acc: 0.9907 - val_loss: 0.1697 - val_acc: 0.9375\n",
            "Epoch 45/50\n",
            "12/12 [==============================] - 6s 474ms/step - loss: 0.0882 - acc: 0.9961 - val_loss: 0.1519 - val_acc: 0.9375\n",
            "Epoch 46/50\n",
            "12/12 [==============================] - 6s 486ms/step - loss: 0.0742 - acc: 0.9943 - val_loss: 0.1472 - val_acc: 0.9167\n",
            "Epoch 47/50\n",
            "12/12 [==============================] - 6s 495ms/step - loss: 0.0749 - acc: 0.9940 - val_loss: 0.1555 - val_acc: 0.9375\n",
            "Epoch 48/50\n",
            "12/12 [==============================] - 6s 489ms/step - loss: 0.0841 - acc: 0.9926 - val_loss: 0.1611 - val_acc: 0.9375\n",
            "Epoch 49/50\n",
            "12/12 [==============================] - 6s 478ms/step - loss: 0.0760 - acc: 0.9926 - val_loss: 0.1783 - val_acc: 0.9375\n",
            "Epoch 50/50\n",
            "12/12 [==============================] - 6s 474ms/step - loss: 0.0673 - acc: 1.0000 - val_loss: 0.1509 - val_acc: 0.9583\n"
          ],
          "name": "stdout"
        }
      ]
    },
    {
      "cell_type": "code",
      "metadata": {
        "colab": {
          "base_uri": "https://localhost:8080/",
          "height": 297
        },
        "id": "D1ThRelHI86H",
        "outputId": "0b356820-362b-4fd3-d34b-cf6848f3b67e"
      },
      "source": [
        "%matplotlib inline\n",
        "import matplotlib.pyplot as plt\n",
        "\n",
        "\n",
        "acc = history.history['acc']\n",
        "val_acc = history.history['val_acc']\n",
        "loss = history.history['loss']\n",
        "val_loss = history.history['val_loss']\n",
        "\n",
        "epochs = range(len(acc))\n",
        "\n",
        "plt.plot(epochs, acc, 'r', label='Training accuracy')\n",
        "plt.plot(epochs, val_acc, 'b', label='Validation accuracy')\n",
        "plt.title('Training and validation accuracy')\n",
        "plt.legend(loc=0)\n",
        "plt.figure()\n",
        "\n",
        "\n",
        "plt.show()"
      ],
      "execution_count": null,
      "outputs": [
        {
          "output_type": "display_data",
          "data": {
            "image/png": "[encoded data removed]",
            "text/plain": [
              "<Figure size 432x288 with 1 Axes>"
            ]
          },
          "metadata": {
            "tags": [],
            "needs_background": "light"
          }
        },
        {
          "output_type": "display_data",
          "data": {
            "text/plain": [
              "<Figure size 432x288 with 0 Axes>"
            ]
          },
          "metadata": {
            "tags": []
          }
        }
      ]
    },
    {
      "cell_type": "markdown",
      "metadata": {
        "id": "PyPioOTdKhqn"
      },
      "source": [
        "## Saving Existing Model"
      ]
    },
    {
      "cell_type": "markdown",
      "metadata": {
        "id": "SRLai4-oeUpB"
      },
      "source": [
        "### Default Tensorflow Model Format"
      ]
    },
    {
      "cell_type": "code",
      "metadata": {
        "id": "H0g-7T6VLH9K"
      },
      "source": [
        "!mkdir \"Machine_Learning_Models\""
      ],
      "execution_count": null,
      "outputs": []
    },
    {
      "cell_type": "code",
      "metadata": {
        "id": "E6QmEEP4M_sZ"
      },
      "source": [
        "!mkdir \"Machine_Learning_Models/model_leo/modelv1\""
      ],
      "execution_count": null,
      "outputs": []
    },
    {
      "cell_type": "code",
      "metadata": {
        "colab": {
          "base_uri": "https://localhost:8080/"
        },
        "id": "AUxFiyrxKgld",
        "outputId": "f6245789-fd34-42ff-ce78-9d4890418a65"
      },
      "source": [
        "# Save model to desired path\n",
        "\n",
        "saved_model_path = \"Machine_Learning_Models/model_leo/modelv1\"\n",
        "\n",
        "model.save(saved_model_path)"
      ],
      "execution_count": null,
      "outputs": [
        {
          "output_type": "stream",
          "text": [
            "INFO:tensorflow:Assets written to: Machine_Learning_Models/model_leo/modelv1/assets\n"
          ],
          "name": "stdout"
        },
        {
          "output_type": "stream",
          "text": [
            "INFO:tensorflow:Assets written to: Machine_Learning_Models/model_leo/modelv1/assets\n"
          ],
          "name": "stderr"
        }
      ]
    },
    {
      "cell_type": "markdown",
      "metadata": {
        "id": "Crt4BjL-HYTT"
      },
      "source": [
        "### Save model to H5 Format"
      ]
    },
    {
      "cell_type": "code",
      "metadata": {
        "id": "LgbzOhhnFTRQ"
      },
      "source": [
        "# calling model.save function\n",
        "model.save(\"Machine_Learning_Models/model_leo/modelv1.h5\")"
      ],
      "execution_count": null,
      "outputs": []
    },
    {
      "cell_type": "markdown",
      "metadata": {
        "id": "pK2g9idoCOql"
      },
      "source": [
        "## Load Model"
      ]
    },
    {
      "cell_type": "code",
      "metadata": {
        "id": "LqbTLOOUPlUY"
      },
      "source": [
        "# For regular model.save\n",
        "model = tf.keras.models.load_model(\"Machine_Learning_Models/model_leo/modelv1\")"
      ],
      "execution_count": null,
      "outputs": []
    },
    {
      "cell_type": "code",
      "metadata": {
        "id": "9uGdAtKbHu_X"
      },
      "source": [
        "# For h5 model format\n",
        "model = tf.keras.models.load_model(\"Machine_Learning_Models/model_leo/modelv1.h5\", custom_objects={'KerasLayer':hub.KerasLayer})"
      ],
      "execution_count": null,
      "outputs": []
    },
    {
      "cell_type": "code",
      "metadata": {
        "colab": {
          "base_uri": "https://localhost:8080/"
        },
        "id": "b9EZrjzCIiO5",
        "outputId": "41c69c2c-a3a1-4841-f21a-f19dab933fff"
      },
      "source": [
        "model.summary()"
      ],
      "execution_count": null,
      "outputs": [
        {
          "output_type": "stream",
          "text": [
            "Model: \"sequential\"\n",
            "_________________________________________________________________\n",
            "Layer (type)                 Output Shape              Param #   \n",
            "=================================================================\n",
            "keras_layer (KerasLayer)     (None, 1280)              2257984   \n",
            "_________________________________________________________________\n",
            "dense (Dense)                (None, 1)                 1281      \n",
            "=================================================================\n",
            "Total params: 2,259,265\n",
            "Trainable params: 1,281\n",
            "Non-trainable params: 2,257,984\n",
            "_________________________________________________________________\n"
          ],
          "name": "stdout"
        }
      ]
    },
    {
      "cell_type": "markdown",
      "metadata": {
        "id": "KKD4H-TWPlhH"
      },
      "source": [
        "## Detecting Caries"
      ]
    },
    {
      "cell_type": "code",
      "metadata": {
        "colab": {
          "base_uri": "https://localhost:8080/"
        },
        "id": "XAn2x-zFcwMe",
        "outputId": "da8054db-c9e7-4562-9bd6-9aff3fa11203"
      },
      "source": [
        "%cd 'GAMBAR BUAT COBA MODEL'"
      ],
      "execution_count": null,
      "outputs": [
        {
          "output_type": "stream",
          "text": [
            "/content/gdrive/My Drive/Bangkit Final Project Files/GAMBAR BUAT COBA MODEL\n"
          ],
          "name": "stdout"
        }
      ]
    },
    {
      "cell_type": "code",
      "metadata": {
        "colab": {
          "resources": {
            "http://localhost:8080/nbextensions/google.colab/files.js": {
              "data": "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",
              "ok": true,
              "headers": [
                [
                  "content-type",
                  "application/javascript"
                ]
              ],
              "status": 200,
              "status_text": ""
            }
          },
          "base_uri": "https://localhost:8080/",
          "height": 374
        },
        "id": "p6XIT2OpcCrf",
        "outputId": "109fb6cc-68a3-42c3-cb70-7ccf9b9c3f54"
      },
      "source": [
        "from google.colab import files\n",
        "from tensorflow.keras.preprocessing import image\n",
        "\n",
        "uploaded=files.upload()\n",
        "\n",
        "for fn in uploaded.keys():\n",
        " \n",
        "  # predicting images\n",
        "  path= fn\n",
        "  img=image.load_img(path, target_size=(224, 224)) # Read image into 224x224 size\n",
        "  \n",
        "  x=image.img_to_array(img)       # Convert image into array\n",
        "  x=np.expand_dims(x, axis=0)     # Add batch dimension\n",
        "  images = np.vstack([x]) / 255.0 # Normalize array value\n",
        "  \n",
        "  classes = model.predict(images)\n",
        "  \n",
        "  print(classes[0])\n",
        "  \n",
        "  if classes[0]>0.5:\n",
        "    print(fn + \" is healthy\")\n",
        "    \n",
        "  else:\n",
        "    print(fn + \" is unhealthy\")"
      ],
      "execution_count": null,
      "outputs": [
        {
          "output_type": "display_data",
          "data": {
            "text/html": [
              "\n",
              "     <input type=\"file\" id=\"files-a5cbda17-2a05-4bfe-99e6-69a77275e6e9\" name=\"files[]\" multiple disabled\n",
              "        style=\"border:none\" />\n",
              "     <output id=\"result-a5cbda17-2a05-4bfe-99e6-69a77275e6e9\">\n",
              "      Upload widget is only available when the cell has been executed in the\n",
              "      current browser session. Please rerun this cell to enable.\n",
              "      </output>\n",
              "      <script src=\"/nbextensions/google.colab/files.js\"></script> "
            ],
            "text/plain": [
              "<IPython.core.display.HTML object>"
            ]
          },
          "metadata": {
            "tags": []
          }
        },
        {
          "output_type": "stream",
          "text": [
            "Saving 1200px-06-10-06smile.jpg to 1200px-06-10-06smile.jpg\n",
            "Saving caries.jpg to caries.jpg\n",
            "Saving img09-dental-caries.jpg to img09-dental-caries.jpg\n",
            "Saving item2.jpg to item2.jpg\n",
            "Saving no.509.png to no.509.png\n",
            "[0.617745]\n",
            "1200px-06-10-06smile.jpg is healthy\n",
            "[0.7452831]\n",
            "caries.jpg is healthy\n",
            "[0.00067759]\n",
            "img09-dental-caries.jpg is unhealthy\n",
            "[0.26095277]\n",
            "item2.jpg is unhealthy\n",
            "[0.2472175]\n",
            "no.509.png is unhealthy\n"
          ],
          "name": "stdout"
        }
      ]
    }
  ]
}